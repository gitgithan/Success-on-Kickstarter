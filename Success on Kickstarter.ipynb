{
 "cells": [
  {
   "cell_type": "markdown",
   "metadata": {
    "toc": true
   },
   "source": [
    "<h1>Table of Contents<span class=\"tocSkip\"></span></h1>\n",
    "<div class=\"toc\"><ul class=\"toc-item\"><li><span><a href=\"#Reading-in-the-data\" data-toc-modified-id=\"Reading-in-the-data-1\"><span class=\"toc-item-num\">1&nbsp;&nbsp;</span>Reading in the data</a></span></li><li><span><a href=\"#Mean-Pledge-of-all-Projects\" data-toc-modified-id=\"Mean-Pledge-of-all-Projects-2\"><span class=\"toc-item-num\">2&nbsp;&nbsp;</span>Mean Pledge of all Projects</a></span></li><li><span><a href=\"#Histogram-for-Number-of-backers\" data-toc-modified-id=\"Histogram-for-Number-of-backers-3\"><span class=\"toc-item-num\">3&nbsp;&nbsp;</span>Histogram for Number of backers</a></span><ul class=\"toc-item\"><li><span><a href=\"#Checking-histogram-sanity\" data-toc-modified-id=\"Checking-histogram-sanity-3.1\"><span class=\"toc-item-num\">3.1&nbsp;&nbsp;</span>Checking histogram sanity</a></span></li></ul></li><li><span><a href=\"#Checking-Normality-of-Duration-column\" data-toc-modified-id=\"Checking-Normality-of-Duration-column-4\"><span class=\"toc-item-num\">4&nbsp;&nbsp;</span>Checking Normality of Duration column</a></span><ul class=\"toc-item\"><li><span><a href=\"#Visual-Check-1.-Histogram\" data-toc-modified-id=\"Visual-Check-1.-Histogram-4.1\"><span class=\"toc-item-num\">4.1&nbsp;&nbsp;</span>Visual Check 1. Histogram</a></span></li><li><span><a href=\"#Visual-Check-2.-Quantile-Quantile-Plot\" data-toc-modified-id=\"Visual-Check-2.-Quantile-Quantile-Plot-4.2\"><span class=\"toc-item-num\">4.2&nbsp;&nbsp;</span>Visual Check 2. Quantile-Quantile Plot</a></span></li><li><span><a href=\"#Statistical-Check-1.-Shapiro\" data-toc-modified-id=\"Statistical-Check-1.-Shapiro-4.3\"><span class=\"toc-item-num\">4.3&nbsp;&nbsp;</span>Statistical Check 1. Shapiro</a></span></li></ul></li><li><span><a href=\"#Discovering-factors-for-a-successful-KickStarter-Campaign\" data-toc-modified-id=\"Discovering-factors-for-a-successful-KickStarter-Campaign-5\"><span class=\"toc-item-num\">5&nbsp;&nbsp;</span>Discovering factors for a successful KickStarter Campaign</a></span><ul class=\"toc-item\"><li><span><a href=\"#Point-to-note:-those-with-very-high-funding-percentage-(&gt;1000)-have-very-low-funding-goals-(&lt;=-100)\" data-toc-modified-id=\"Point-to-note:-those-with-very-high-funding-percentage-(>1000)-have-very-low-funding-goals-(<=-100)-5.1\"><span class=\"toc-item-num\">5.1&nbsp;&nbsp;</span>Point to note: those with very high funding percentage (&gt;1000) have very low funding goals (&lt;= 100)</a></span></li><li><span><a href=\"#Note-of-caution-when-using-funding-percentage-vs-status-to-measure-success\" data-toc-modified-id=\"Note-of-caution-when-using-funding-percentage-vs-status-to-measure-success-5.2\"><span class=\"toc-item-num\">5.2&nbsp;&nbsp;</span>Note of caution when using funding percentage vs status to measure success</a></span></li></ul></li><li><span><a href=\"#Best-Length-of-time-to-run-a-campaign\" data-toc-modified-id=\"Best-Length-of-time-to-run-a-campaign-6\"><span class=\"toc-item-num\">6&nbsp;&nbsp;</span>Best Length of time to run a campaign</a></span><ul class=\"toc-item\"><li><span><a href=\"#Scattering-different-levels\" data-toc-modified-id=\"Scattering-different-levels-6.1\"><span class=\"toc-item-num\">6.1&nbsp;&nbsp;</span>Scattering different levels</a></span></li><li><span><a href=\"#Insight\" data-toc-modified-id=\"Insight-6.2\"><span class=\"toc-item-num\">6.2&nbsp;&nbsp;</span>Insight</a></span></li><li><span><a href=\"#Clarifying-densitys-to-prevent-overplotting-in-scatterplot\" data-toc-modified-id=\"Clarifying-densitys-to-prevent-overplotting-in-scatterplot-6.3\"><span class=\"toc-item-num\">6.3&nbsp;&nbsp;</span>Clarifying densitys to prevent overplotting in scatterplot</a></span></li></ul></li><li><span><a href=\"#Ideal-Pledge-Goal\" data-toc-modified-id=\"Ideal-Pledge-Goal-7\"><span class=\"toc-item-num\">7&nbsp;&nbsp;</span>Ideal Pledge Goal</a></span><ul class=\"toc-item\"><li><span><a href=\"#Insight\" data-toc-modified-id=\"Insight-7.1\"><span class=\"toc-item-num\">7.1&nbsp;&nbsp;</span>Insight</a></span></li></ul></li><li><span><a href=\"#Type-of-projects-most-successful-at-getting-funded\" data-toc-modified-id=\"Type-of-projects-most-successful-at-getting-funded-8\"><span class=\"toc-item-num\">8&nbsp;&nbsp;</span>Type of projects most successful at getting funded</a></span><ul class=\"toc-item\"><li><span><a href=\"#Data-Cleaning\" data-toc-modified-id=\"Data-Cleaning-8.1\"><span class=\"toc-item-num\">8.1&nbsp;&nbsp;</span>Data Cleaning</a></span></li><li><span><a href=\"#Checking-correct-replacement\" data-toc-modified-id=\"Checking-correct-replacement-8.2\"><span class=\"toc-item-num\">8.2&nbsp;&nbsp;</span>Checking correct replacement</a></span></li><li><span><a href=\"#Comparison-to-own-Category\" data-toc-modified-id=\"Comparison-to-own-Category-8.3\"><span class=\"toc-item-num\">8.3&nbsp;&nbsp;</span>Comparison to own Category</a></span></li><li><span><a href=\"#Comparison-among-Categories\" data-toc-modified-id=\"Comparison-among-Categories-8.4\"><span class=\"toc-item-num\">8.4&nbsp;&nbsp;</span>Comparison among Categories</a></span></li></ul></li><li><span><a href=\"#Ideal-Month/Day/Time-to-launch-a-campaign\" data-toc-modified-id=\"Ideal-Month/Day/Time-to-launch-a-campaign-9\"><span class=\"toc-item-num\">9&nbsp;&nbsp;</span>Ideal Month/Day/Time to launch a campaign</a></span><ul class=\"toc-item\"><li><span><a href=\"#Analyzing-Ideal-Month\" data-toc-modified-id=\"Analyzing-Ideal-Month-9.1\"><span class=\"toc-item-num\">9.1&nbsp;&nbsp;</span>Analyzing Ideal Month</a></span></li><li><span><a href=\"#Analyzing-Ideal-Day-of-Month\" data-toc-modified-id=\"Analyzing-Ideal-Day-of-Month-9.2\"><span class=\"toc-item-num\">9.2&nbsp;&nbsp;</span>Analyzing Ideal Day of Month</a></span></li><li><span><a href=\"#Analyzing-Ideal-Day-of-Week\" data-toc-modified-id=\"Analyzing-Ideal-Day-of-Week-9.3\"><span class=\"toc-item-num\">9.3&nbsp;&nbsp;</span>Analyzing Ideal Day of Week</a></span></li><li><span><a href=\"#Analyzing-Ideal-Time\" data-toc-modified-id=\"Analyzing-Ideal-Time-9.4\"><span class=\"toc-item-num\">9.4&nbsp;&nbsp;</span>Analyzing Ideal Time</a></span></li></ul></li></ul></div>"
   ]
  },
  {
   "cell_type": "code",
   "execution_count": 1,
   "metadata": {
    "ExecuteTime": {
     "end_time": "2018-12-20T05:06:46.902502Z",
     "start_time": "2018-12-20T05:06:46.170502Z"
    }
   },
   "outputs": [],
   "source": [
    "import numpy as np\n",
    "import pandas as pd\n",
    "import matplotlib.pyplot as plt\n",
    "plt.style.use('ggplot')"
   ]
  },
  {
   "cell_type": "markdown",
   "metadata": {},
   "source": [
    "# Reading in the data "
   ]
  },
  {
   "cell_type": "code",
   "execution_count": 2,
   "metadata": {
    "ExecuteTime": {
     "end_time": "2018-12-20T05:06:47.379502Z",
     "start_time": "2018-12-20T05:06:46.903502Z"
    }
   },
   "outputs": [],
   "source": [
    "kickstarter = pd.read_csv('DSI_kickstarterscrape_dataset.csv', encoding = \"latin1\") #utf-8 encoding has byte decode error"
   ]
  },
  {
   "cell_type": "code",
   "execution_count": 3,
   "metadata": {
    "ExecuteTime": {
     "end_time": "2018-12-20T05:06:47.404502Z",
     "start_time": "2018-12-20T05:06:47.381502Z"
    }
   },
   "outputs": [
    {
     "data": {
      "text/html": [
       "<div>\n",
       "<style scoped>\n",
       "    .dataframe tbody tr th:only-of-type {\n",
       "        vertical-align: middle;\n",
       "    }\n",
       "\n",
       "    .dataframe tbody tr th {\n",
       "        vertical-align: top;\n",
       "    }\n",
       "\n",
       "    .dataframe thead th {\n",
       "        text-align: right;\n",
       "    }\n",
       "</style>\n",
       "<table border=\"1\" class=\"dataframe\">\n",
       "  <thead>\n",
       "    <tr style=\"text-align: right;\">\n",
       "      <th></th>\n",
       "      <th>project id</th>\n",
       "      <th>name</th>\n",
       "      <th>url</th>\n",
       "      <th>category</th>\n",
       "      <th>subcategory</th>\n",
       "      <th>location</th>\n",
       "      <th>status</th>\n",
       "      <th>goal</th>\n",
       "      <th>pledged</th>\n",
       "      <th>funded percentage</th>\n",
       "      <th>backers</th>\n",
       "      <th>funded date</th>\n",
       "      <th>levels</th>\n",
       "      <th>reward levels</th>\n",
       "      <th>updates</th>\n",
       "      <th>comments</th>\n",
       "      <th>duration</th>\n",
       "    </tr>\n",
       "  </thead>\n",
       "  <tbody>\n",
       "    <tr>\n",
       "      <th>0</th>\n",
       "      <td>39409</td>\n",
       "      <td>WHILE THE TREES SLEEP</td>\n",
       "      <td>http://www.kickstarter.com/projects/emiliesaba...</td>\n",
       "      <td>Film &amp; Video</td>\n",
       "      <td>Short Film</td>\n",
       "      <td>Columbia, MO</td>\n",
       "      <td>successful</td>\n",
       "      <td>10500.0</td>\n",
       "      <td>11545.0</td>\n",
       "      <td>1.099524</td>\n",
       "      <td>66</td>\n",
       "      <td>Fri, 19 Aug 2011 19:28:17 -0000</td>\n",
       "      <td>7</td>\n",
       "      <td>$25,$50,$100,$250,$500,$1,000,$2,500</td>\n",
       "      <td>10</td>\n",
       "      <td>2</td>\n",
       "      <td>30.00</td>\n",
       "    </tr>\n",
       "    <tr>\n",
       "      <th>1</th>\n",
       "      <td>126581</td>\n",
       "      <td>Educational Online Trading Card Game</td>\n",
       "      <td>http://www.kickstarter.com/projects/972789543/...</td>\n",
       "      <td>Games</td>\n",
       "      <td>Board &amp; Card Games</td>\n",
       "      <td>Maplewood, NJ</td>\n",
       "      <td>failed</td>\n",
       "      <td>4000.0</td>\n",
       "      <td>20.0</td>\n",
       "      <td>0.005000</td>\n",
       "      <td>2</td>\n",
       "      <td>Mon, 02 Aug 2010 03:59:00 -0000</td>\n",
       "      <td>5</td>\n",
       "      <td>$1,$5,$10,$25,$50</td>\n",
       "      <td>6</td>\n",
       "      <td>0</td>\n",
       "      <td>47.18</td>\n",
       "    </tr>\n",
       "    <tr>\n",
       "      <th>2</th>\n",
       "      <td>138119</td>\n",
       "      <td>STRUM</td>\n",
       "      <td>http://www.kickstarter.com/projects/185476022/...</td>\n",
       "      <td>Film &amp; Video</td>\n",
       "      <td>Animation</td>\n",
       "      <td>Los Angeles, CA</td>\n",
       "      <td>live</td>\n",
       "      <td>20000.0</td>\n",
       "      <td>56.0</td>\n",
       "      <td>0.002800</td>\n",
       "      <td>3</td>\n",
       "      <td>Fri, 08 Jun 2012 00:00:31 -0000</td>\n",
       "      <td>10</td>\n",
       "      <td>$1,$10,$25,$40,$50,$100,$250,$1,000,$1,337,$9,001</td>\n",
       "      <td>1</td>\n",
       "      <td>0</td>\n",
       "      <td>28.00</td>\n",
       "    </tr>\n",
       "    <tr>\n",
       "      <th>3</th>\n",
       "      <td>237090</td>\n",
       "      <td>GETTING OVER - One son's search to finally kno...</td>\n",
       "      <td>http://www.kickstarter.com/projects/charnick/g...</td>\n",
       "      <td>Film &amp; Video</td>\n",
       "      <td>Documentary</td>\n",
       "      <td>Los Angeles, CA</td>\n",
       "      <td>successful</td>\n",
       "      <td>6000.0</td>\n",
       "      <td>6535.0</td>\n",
       "      <td>1.089167</td>\n",
       "      <td>100</td>\n",
       "      <td>Sun, 08 Apr 2012 02:14:00 -0000</td>\n",
       "      <td>13</td>\n",
       "      <td>$1,$10,$25,$30,$50,$75,$85,$100,$110,$250,$500...</td>\n",
       "      <td>4</td>\n",
       "      <td>0</td>\n",
       "      <td>32.22</td>\n",
       "    </tr>\n",
       "    <tr>\n",
       "      <th>4</th>\n",
       "      <td>246101</td>\n",
       "      <td>The Launch of FlyeGrlRoyalty &amp;quot;The New Nam...</td>\n",
       "      <td>http://www.kickstarter.com/projects/flyegrlroy...</td>\n",
       "      <td>Fashion</td>\n",
       "      <td>Fashion</td>\n",
       "      <td>Novi, MI</td>\n",
       "      <td>failed</td>\n",
       "      <td>3500.0</td>\n",
       "      <td>0.0</td>\n",
       "      <td>0.000000</td>\n",
       "      <td>0</td>\n",
       "      <td>Wed, 01 Jun 2011 15:25:39 -0000</td>\n",
       "      <td>6</td>\n",
       "      <td>$10,$25,$50,$100,$150,$250</td>\n",
       "      <td>2</td>\n",
       "      <td>0</td>\n",
       "      <td>30.00</td>\n",
       "    </tr>\n",
       "  </tbody>\n",
       "</table>\n",
       "</div>"
      ],
      "text/plain": [
       "   project id                                               name  \\\n",
       "0       39409                              WHILE THE TREES SLEEP   \n",
       "1      126581               Educational Online Trading Card Game   \n",
       "2      138119                                              STRUM   \n",
       "3      237090  GETTING OVER - One son's search to finally kno...   \n",
       "4      246101  The Launch of FlyeGrlRoyalty &quot;The New Nam...   \n",
       "\n",
       "                                                 url      category  \\\n",
       "0  http://www.kickstarter.com/projects/emiliesaba...  Film & Video   \n",
       "1  http://www.kickstarter.com/projects/972789543/...         Games   \n",
       "2  http://www.kickstarter.com/projects/185476022/...  Film & Video   \n",
       "3  http://www.kickstarter.com/projects/charnick/g...  Film & Video   \n",
       "4  http://www.kickstarter.com/projects/flyegrlroy...       Fashion   \n",
       "\n",
       "          subcategory         location      status     goal  pledged  \\\n",
       "0          Short Film     Columbia, MO  successful  10500.0  11545.0   \n",
       "1  Board & Card Games    Maplewood, NJ      failed   4000.0     20.0   \n",
       "2           Animation  Los Angeles, CA        live  20000.0     56.0   \n",
       "3         Documentary  Los Angeles, CA  successful   6000.0   6535.0   \n",
       "4             Fashion         Novi, MI      failed   3500.0      0.0   \n",
       "\n",
       "   funded percentage  backers                      funded date  levels  \\\n",
       "0           1.099524       66  Fri, 19 Aug 2011 19:28:17 -0000       7   \n",
       "1           0.005000        2  Mon, 02 Aug 2010 03:59:00 -0000       5   \n",
       "2           0.002800        3  Fri, 08 Jun 2012 00:00:31 -0000      10   \n",
       "3           1.089167      100  Sun, 08 Apr 2012 02:14:00 -0000      13   \n",
       "4           0.000000        0  Wed, 01 Jun 2011 15:25:39 -0000       6   \n",
       "\n",
       "                                       reward levels  updates  comments  \\\n",
       "0               $25,$50,$100,$250,$500,$1,000,$2,500       10         2   \n",
       "1                                  $1,$5,$10,$25,$50        6         0   \n",
       "2  $1,$10,$25,$40,$50,$100,$250,$1,000,$1,337,$9,001        1         0   \n",
       "3  $1,$10,$25,$30,$50,$75,$85,$100,$110,$250,$500...        4         0   \n",
       "4                         $10,$25,$50,$100,$150,$250        2         0   \n",
       "\n",
       "   duration  \n",
       "0     30.00  \n",
       "1     47.18  \n",
       "2     28.00  \n",
       "3     32.22  \n",
       "4     30.00  "
      ]
     },
     "execution_count": 3,
     "metadata": {},
     "output_type": "execute_result"
    }
   ],
   "source": [
    "kickstarter.head()"
   ]
  },
  {
   "cell_type": "code",
   "execution_count": 4,
   "metadata": {
    "ExecuteTime": {
     "end_time": "2018-12-20T05:06:47.676502Z",
     "start_time": "2018-12-20T05:06:47.407502Z"
    }
   },
   "outputs": [
    {
     "data": {
      "text/html": [
       "<div>\n",
       "<style scoped>\n",
       "    .dataframe tbody tr th:only-of-type {\n",
       "        vertical-align: middle;\n",
       "    }\n",
       "\n",
       "    .dataframe tbody tr th {\n",
       "        vertical-align: top;\n",
       "    }\n",
       "\n",
       "    .dataframe thead th {\n",
       "        text-align: right;\n",
       "    }\n",
       "</style>\n",
       "<table border=\"1\" class=\"dataframe\">\n",
       "  <thead>\n",
       "    <tr style=\"text-align: right;\">\n",
       "      <th></th>\n",
       "      <th>project id</th>\n",
       "      <th>name</th>\n",
       "      <th>url</th>\n",
       "      <th>category</th>\n",
       "      <th>subcategory</th>\n",
       "      <th>location</th>\n",
       "      <th>status</th>\n",
       "      <th>goal</th>\n",
       "      <th>pledged</th>\n",
       "      <th>funded percentage</th>\n",
       "      <th>backers</th>\n",
       "      <th>funded date</th>\n",
       "      <th>levels</th>\n",
       "      <th>reward levels</th>\n",
       "      <th>updates</th>\n",
       "      <th>comments</th>\n",
       "      <th>duration</th>\n",
       "    </tr>\n",
       "  </thead>\n",
       "  <tbody>\n",
       "    <tr>\n",
       "      <th>count</th>\n",
       "      <td>4.595700e+04</td>\n",
       "      <td>45957</td>\n",
       "      <td>45957</td>\n",
       "      <td>45957</td>\n",
       "      <td>45957</td>\n",
       "      <td>44635</td>\n",
       "      <td>45957</td>\n",
       "      <td>4.595700e+04</td>\n",
       "      <td>4.594500e+04</td>\n",
       "      <td>45957.000000</td>\n",
       "      <td>45957.000000</td>\n",
       "      <td>45957</td>\n",
       "      <td>45957.000000</td>\n",
       "      <td>45898</td>\n",
       "      <td>45957.00000</td>\n",
       "      <td>45957.000000</td>\n",
       "      <td>45957.000000</td>\n",
       "    </tr>\n",
       "    <tr>\n",
       "      <th>unique</th>\n",
       "      <td>NaN</td>\n",
       "      <td>45754</td>\n",
       "      <td>45814</td>\n",
       "      <td>14</td>\n",
       "      <td>51</td>\n",
       "      <td>4849</td>\n",
       "      <td>5</td>\n",
       "      <td>NaN</td>\n",
       "      <td>NaN</td>\n",
       "      <td>NaN</td>\n",
       "      <td>NaN</td>\n",
       "      <td>41068</td>\n",
       "      <td>NaN</td>\n",
       "      <td>28378</td>\n",
       "      <td>NaN</td>\n",
       "      <td>NaN</td>\n",
       "      <td>NaN</td>\n",
       "    </tr>\n",
       "    <tr>\n",
       "      <th>top</th>\n",
       "      <td>NaN</td>\n",
       "      <td>Black Storm</td>\n",
       "      <td>http://www.kickstarter.com/projects/1642435130...</td>\n",
       "      <td>Film &amp;amp; Video</td>\n",
       "      <td>Documentary</td>\n",
       "      <td>Los Angeles, CA</td>\n",
       "      <td>successful</td>\n",
       "      <td>NaN</td>\n",
       "      <td>NaN</td>\n",
       "      <td>NaN</td>\n",
       "      <td>NaN</td>\n",
       "      <td>Sun, 01 Jan 2012 04:59:00 -0000</td>\n",
       "      <td>NaN</td>\n",
       "      <td>$10,$25,$50,$100,$250,$500,$1,000</td>\n",
       "      <td>NaN</td>\n",
       "      <td>NaN</td>\n",
       "      <td>NaN</td>\n",
       "    </tr>\n",
       "    <tr>\n",
       "      <th>freq</th>\n",
       "      <td>NaN</td>\n",
       "      <td>3</td>\n",
       "      <td>2</td>\n",
       "      <td>13053</td>\n",
       "      <td>4012</td>\n",
       "      <td>3927</td>\n",
       "      <td>22969</td>\n",
       "      <td>NaN</td>\n",
       "      <td>NaN</td>\n",
       "      <td>NaN</td>\n",
       "      <td>NaN</td>\n",
       "      <td>44</td>\n",
       "      <td>NaN</td>\n",
       "      <td>369</td>\n",
       "      <td>NaN</td>\n",
       "      <td>NaN</td>\n",
       "      <td>NaN</td>\n",
       "    </tr>\n",
       "    <tr>\n",
       "      <th>mean</th>\n",
       "      <td>1.080800e+09</td>\n",
       "      <td>NaN</td>\n",
       "      <td>NaN</td>\n",
       "      <td>NaN</td>\n",
       "      <td>NaN</td>\n",
       "      <td>NaN</td>\n",
       "      <td>NaN</td>\n",
       "      <td>1.194271e+04</td>\n",
       "      <td>4.980750e+03</td>\n",
       "      <td>1.850129</td>\n",
       "      <td>69.973192</td>\n",
       "      <td>NaN</td>\n",
       "      <td>8.004939</td>\n",
       "      <td>NaN</td>\n",
       "      <td>4.08508</td>\n",
       "      <td>8.379529</td>\n",
       "      <td>39.995547</td>\n",
       "    </tr>\n",
       "    <tr>\n",
       "      <th>std</th>\n",
       "      <td>6.218057e+08</td>\n",
       "      <td>NaN</td>\n",
       "      <td>NaN</td>\n",
       "      <td>NaN</td>\n",
       "      <td>NaN</td>\n",
       "      <td>NaN</td>\n",
       "      <td>NaN</td>\n",
       "      <td>1.887583e+05</td>\n",
       "      <td>5.674162e+04</td>\n",
       "      <td>88.492706</td>\n",
       "      <td>688.628479</td>\n",
       "      <td>NaN</td>\n",
       "      <td>4.233907</td>\n",
       "      <td>NaN</td>\n",
       "      <td>6.43922</td>\n",
       "      <td>174.015737</td>\n",
       "      <td>17.414458</td>\n",
       "    </tr>\n",
       "    <tr>\n",
       "      <th>min</th>\n",
       "      <td>3.940900e+04</td>\n",
       "      <td>NaN</td>\n",
       "      <td>NaN</td>\n",
       "      <td>NaN</td>\n",
       "      <td>NaN</td>\n",
       "      <td>NaN</td>\n",
       "      <td>NaN</td>\n",
       "      <td>1.000000e-02</td>\n",
       "      <td>0.000000e+00</td>\n",
       "      <td>0.000000</td>\n",
       "      <td>0.000000</td>\n",
       "      <td>NaN</td>\n",
       "      <td>0.000000</td>\n",
       "      <td>NaN</td>\n",
       "      <td>0.00000</td>\n",
       "      <td>0.000000</td>\n",
       "      <td>1.000000</td>\n",
       "    </tr>\n",
       "    <tr>\n",
       "      <th>25%</th>\n",
       "      <td>5.438962e+08</td>\n",
       "      <td>NaN</td>\n",
       "      <td>NaN</td>\n",
       "      <td>NaN</td>\n",
       "      <td>NaN</td>\n",
       "      <td>NaN</td>\n",
       "      <td>NaN</td>\n",
       "      <td>1.800000e+03</td>\n",
       "      <td>1.960000e+02</td>\n",
       "      <td>0.044000</td>\n",
       "      <td>5.000000</td>\n",
       "      <td>NaN</td>\n",
       "      <td>5.000000</td>\n",
       "      <td>NaN</td>\n",
       "      <td>0.00000</td>\n",
       "      <td>0.000000</td>\n",
       "      <td>30.000000</td>\n",
       "    </tr>\n",
       "    <tr>\n",
       "      <th>50%</th>\n",
       "      <td>1.078345e+09</td>\n",
       "      <td>NaN</td>\n",
       "      <td>NaN</td>\n",
       "      <td>NaN</td>\n",
       "      <td>NaN</td>\n",
       "      <td>NaN</td>\n",
       "      <td>NaN</td>\n",
       "      <td>4.000000e+03</td>\n",
       "      <td>1.310000e+03</td>\n",
       "      <td>1.000000</td>\n",
       "      <td>23.000000</td>\n",
       "      <td>NaN</td>\n",
       "      <td>7.000000</td>\n",
       "      <td>NaN</td>\n",
       "      <td>2.00000</td>\n",
       "      <td>0.000000</td>\n",
       "      <td>32.000000</td>\n",
       "    </tr>\n",
       "    <tr>\n",
       "      <th>75%</th>\n",
       "      <td>1.621596e+09</td>\n",
       "      <td>NaN</td>\n",
       "      <td>NaN</td>\n",
       "      <td>NaN</td>\n",
       "      <td>NaN</td>\n",
       "      <td>NaN</td>\n",
       "      <td>NaN</td>\n",
       "      <td>9.862000e+03</td>\n",
       "      <td>4.165000e+03</td>\n",
       "      <td>1.115640</td>\n",
       "      <td>59.000000</td>\n",
       "      <td>NaN</td>\n",
       "      <td>10.000000</td>\n",
       "      <td>NaN</td>\n",
       "      <td>6.00000</td>\n",
       "      <td>3.000000</td>\n",
       "      <td>48.390000</td>\n",
       "    </tr>\n",
       "    <tr>\n",
       "      <th>max</th>\n",
       "      <td>2.147460e+09</td>\n",
       "      <td>NaN</td>\n",
       "      <td>NaN</td>\n",
       "      <td>NaN</td>\n",
       "      <td>NaN</td>\n",
       "      <td>NaN</td>\n",
       "      <td>NaN</td>\n",
       "      <td>2.147484e+07</td>\n",
       "      <td>1.026684e+07</td>\n",
       "      <td>15066.000000</td>\n",
       "      <td>87142.000000</td>\n",
       "      <td>NaN</td>\n",
       "      <td>80.000000</td>\n",
       "      <td>NaN</td>\n",
       "      <td>149.00000</td>\n",
       "      <td>19311.000000</td>\n",
       "      <td>91.960000</td>\n",
       "    </tr>\n",
       "  </tbody>\n",
       "</table>\n",
       "</div>"
      ],
      "text/plain": [
       "          project id         name  \\\n",
       "count   4.595700e+04        45957   \n",
       "unique           NaN        45754   \n",
       "top              NaN  Black Storm   \n",
       "freq             NaN            3   \n",
       "mean    1.080800e+09          NaN   \n",
       "std     6.218057e+08          NaN   \n",
       "min     3.940900e+04          NaN   \n",
       "25%     5.438962e+08          NaN   \n",
       "50%     1.078345e+09          NaN   \n",
       "75%     1.621596e+09          NaN   \n",
       "max     2.147460e+09          NaN   \n",
       "\n",
       "                                                      url          category  \\\n",
       "count                                               45957             45957   \n",
       "unique                                              45814                14   \n",
       "top     http://www.kickstarter.com/projects/1642435130...  Film &amp; Video   \n",
       "freq                                                    2             13053   \n",
       "mean                                                  NaN               NaN   \n",
       "std                                                   NaN               NaN   \n",
       "min                                                   NaN               NaN   \n",
       "25%                                                   NaN               NaN   \n",
       "50%                                                   NaN               NaN   \n",
       "75%                                                   NaN               NaN   \n",
       "max                                                   NaN               NaN   \n",
       "\n",
       "        subcategory         location      status          goal       pledged  \\\n",
       "count         45957            44635       45957  4.595700e+04  4.594500e+04   \n",
       "unique           51             4849           5           NaN           NaN   \n",
       "top     Documentary  Los Angeles, CA  successful           NaN           NaN   \n",
       "freq           4012             3927       22969           NaN           NaN   \n",
       "mean            NaN              NaN         NaN  1.194271e+04  4.980750e+03   \n",
       "std             NaN              NaN         NaN  1.887583e+05  5.674162e+04   \n",
       "min             NaN              NaN         NaN  1.000000e-02  0.000000e+00   \n",
       "25%             NaN              NaN         NaN  1.800000e+03  1.960000e+02   \n",
       "50%             NaN              NaN         NaN  4.000000e+03  1.310000e+03   \n",
       "75%             NaN              NaN         NaN  9.862000e+03  4.165000e+03   \n",
       "max             NaN              NaN         NaN  2.147484e+07  1.026684e+07   \n",
       "\n",
       "        funded percentage       backers                      funded date  \\\n",
       "count        45957.000000  45957.000000                            45957   \n",
       "unique                NaN           NaN                            41068   \n",
       "top                   NaN           NaN  Sun, 01 Jan 2012 04:59:00 -0000   \n",
       "freq                  NaN           NaN                               44   \n",
       "mean             1.850129     69.973192                              NaN   \n",
       "std             88.492706    688.628479                              NaN   \n",
       "min              0.000000      0.000000                              NaN   \n",
       "25%              0.044000      5.000000                              NaN   \n",
       "50%              1.000000     23.000000                              NaN   \n",
       "75%              1.115640     59.000000                              NaN   \n",
       "max          15066.000000  87142.000000                              NaN   \n",
       "\n",
       "              levels                      reward levels      updates  \\\n",
       "count   45957.000000                              45898  45957.00000   \n",
       "unique           NaN                              28378          NaN   \n",
       "top              NaN  $10,$25,$50,$100,$250,$500,$1,000          NaN   \n",
       "freq             NaN                                369          NaN   \n",
       "mean        8.004939                                NaN      4.08508   \n",
       "std         4.233907                                NaN      6.43922   \n",
       "min         0.000000                                NaN      0.00000   \n",
       "25%         5.000000                                NaN      0.00000   \n",
       "50%         7.000000                                NaN      2.00000   \n",
       "75%        10.000000                                NaN      6.00000   \n",
       "max        80.000000                                NaN    149.00000   \n",
       "\n",
       "            comments      duration  \n",
       "count   45957.000000  45957.000000  \n",
       "unique           NaN           NaN  \n",
       "top              NaN           NaN  \n",
       "freq             NaN           NaN  \n",
       "mean        8.379529     39.995547  \n",
       "std       174.015737     17.414458  \n",
       "min         0.000000      1.000000  \n",
       "25%         0.000000     30.000000  \n",
       "50%         0.000000     32.000000  \n",
       "75%         3.000000     48.390000  \n",
       "max     19311.000000     91.960000  "
      ]
     },
     "execution_count": 4,
     "metadata": {},
     "output_type": "execute_result"
    }
   ],
   "source": [
    "kickstarter.describe(include = 'all')"
   ]
  },
  {
   "cell_type": "markdown",
   "metadata": {},
   "source": [
    "Columns location, pledged, reward levels do not have 45957 values, meaning some are missing for these 3 columns."
   ]
  },
  {
   "cell_type": "markdown",
   "metadata": {},
   "source": [
    "# Mean Pledge of all Projects"
   ]
  },
  {
   "cell_type": "code",
   "execution_count": 5,
   "metadata": {
    "ExecuteTime": {
     "end_time": "2018-12-20T05:06:47.685502Z",
     "start_time": "2018-12-20T05:06:47.678502Z"
    }
   },
   "outputs": [
    {
     "name": "stdout",
     "output_type": "stream",
     "text": [
      "Mean Pledge of all projects is: 4979.449137236982\n"
     ]
    }
   ],
   "source": [
    "mean_pledge = kickstarter.pledged.sum()/len(kickstarter)\n",
    "print('Mean Pledge of all projects is:', mean_pledge)"
   ]
  },
  {
   "cell_type": "markdown",
   "metadata": {
    "ExecuteTime": {
     "end_time": "2018-08-20T06:34:17.285602Z",
     "start_time": "2018-08-20T06:34:17.283102Z"
    }
   },
   "source": [
    "# Histogram for Number of backers"
   ]
  },
  {
   "cell_type": "code",
   "execution_count": 6,
   "metadata": {
    "ExecuteTime": {
     "end_time": "2018-12-20T05:06:47.843502Z",
     "start_time": "2018-12-20T05:06:47.687502Z"
    }
   },
   "outputs": [
    {
     "data": {
      "image/png": "[encoded data removed]",
      "text/plain": [
       "<Figure size 432x288 with 1 Axes>"
      ]
     },
     "metadata": {
      "needs_background": "light"
     },
     "output_type": "display_data"
    }
   ],
   "source": [
    "kickstarter.backers.hist()  #default bins = 10\n",
    "plt.title('Backers Histogram')\n",
    "plt.xlabel('Number of backers')\n",
    "plt.ylabel('Frequency')\n",
    "plt.show()"
   ]
  },
  {
   "cell_type": "markdown",
   "metadata": {},
   "source": [
    "This histogram shows that the range of x values are around 0 to 80000. The high bar around 0 shows that the distribution is very right skewed. "
   ]
  },
  {
   "cell_type": "markdown",
   "metadata": {},
   "source": [
    "##  Checking histogram sanity "
   ]
  },
  {
   "cell_type": "code",
   "execution_count": 7,
   "metadata": {
    "ExecuteTime": {
     "end_time": "2018-12-20T05:06:47.872502Z",
     "start_time": "2018-12-20T05:06:47.845502Z"
    }
   },
   "outputs": [
    {
     "name": "stdout",
     "output_type": "stream",
     "text": [
      "(78427.8, 87142.0]        1\n",
      "(69713.6, 78427.8]        0\n",
      "(60999.4, 69713.6]        2\n",
      "(52285.2, 60999.4]        0\n",
      "(43571.0, 52285.2]        0\n",
      "(34856.8, 43571.0]        1\n",
      "(26142.6, 34856.8]        0\n",
      "(17428.4, 26142.6]        2\n",
      "(8714.2, 17428.4]         9\n",
      "(-87.143, 8714.2]     45942\n",
      "Name: backers, dtype: int64\n"
     ]
    },
    {
     "data": {
      "text/plain": [
       "41151    87142\n",
       "10710    68929\n",
       "42674    61290\n",
       "11231    36276\n",
       "17468    24883\n",
       "38386    20042\n",
       "4086     14952\n",
       "44587    14081\n",
       "27726    13647\n",
       "4114     13512\n",
       "3800     13020\n",
       "35458    12521\n",
       "30191    12457\n",
       "26982    11611\n",
       "24751     9818\n",
       "23454     7893\n",
       "10399     7459\n",
       "14739     7317\n",
       "37154     6479\n",
       "42747     6192\n",
       "6136      5836\n",
       "443       5661\n",
       "18659     5578\n",
       "19495     5512\n",
       "5178      5498\n",
       "40759     5473\n",
       "17039     5423\n",
       "18500     5358\n",
       "11210     5273\n",
       "20223     5258\n",
       "         ...  \n",
       "29011        0\n",
       "37782        0\n",
       "29010        0\n",
       "20916        0\n",
       "17074        0\n",
       "14437        0\n",
       "34579        0\n",
       "8429         0\n",
       "12810        0\n",
       "2708         0\n",
       "31174        0\n",
       "31175        0\n",
       "39270        0\n",
       "21783        0\n",
       "7759         0\n",
       "31181        0\n",
       "8428         0\n",
       "2700         0\n",
       "40028        0\n",
       "4294         0\n",
       "11559        0\n",
       "43638        0\n",
       "17084        0\n",
       "28996        0\n",
       "20905        0\n",
       "5799         0\n",
       "20904        0\n",
       "28995        0\n",
       "44903        0\n",
       "29706        0\n",
       "Name: backers, Length: 45957, dtype: int64"
      ]
     },
     "execution_count": 7,
     "metadata": {},
     "output_type": "execute_result"
    }
   ],
   "source": [
    "print(kickstarter.backers.value_counts(bins=10).sort_index(ascending=False))\n",
    "kickstarter.backers.sort_values(ascending=False)"
   ]
  },
  {
   "cell_type": "markdown",
   "metadata": {},
   "source": [
    "This confirms that the histogram's extreme right skew is indeed correct. There are some projects with an extremely large number of backers, the highest being 87142, while many of the bottom projects have 0 backers. "
   ]
  },
  {
   "cell_type": "markdown",
   "metadata": {},
   "source": [
    "# Checking Normality of Duration column  "
   ]
  },
  {
   "cell_type": "markdown",
   "metadata": {},
   "source": [
    "## Visual Check 1. Histogram "
   ]
  },
  {
   "cell_type": "code",
   "execution_count": 8,
   "metadata": {
    "ExecuteTime": {
     "end_time": "2018-12-20T05:06:48.001502Z",
     "start_time": "2018-12-20T05:06:47.875502Z"
    }
   },
   "outputs": [
    {
     "data": {
      "image/png": "[encoded data removed]",
      "text/plain": [
       "<Figure size 432x288 with 1 Axes>"
      ]
     },
     "metadata": {
      "needs_background": "light"
     },
     "output_type": "display_data"
    }
   ],
   "source": [
    "kickstarter.duration.hist(bins = 20)\n",
    "plt.title('Duration Histogram')\n",
    "plt.xlabel('Project Duration')\n",
    "plt.ylabel('Frequency')\n",
    "plt.show()"
   ]
  },
  {
   "cell_type": "markdown",
   "metadata": {},
   "source": [
    "The histogram looks generally symmetrical, except for a spike at around Duration = 30"
   ]
  },
  {
   "cell_type": "markdown",
   "metadata": {},
   "source": [
    "## Visual Check 2. Quantile-Quantile Plot\n"
   ]
  },
  {
   "cell_type": "code",
   "execution_count": 9,
   "metadata": {
    "ExecuteTime": {
     "end_time": "2018-12-20T05:06:52.820502Z",
     "start_time": "2018-12-20T05:06:48.003502Z"
    }
   },
   "outputs": [
    {
     "data": {
      "image/png": "[encoded data removed]",
      "text/plain": [
       "<Figure size 432x288 with 1 Axes>"
      ]
     },
     "execution_count": 9,
     "metadata": {},
     "output_type": "execute_result"
    },
    {
     "data": {
      "image/png": "[encoded data removed]",
      "text/plain": [
       "<Figure size 432x288 with 1 Axes>"
      ]
     },
     "metadata": {
      "needs_background": "light"
     },
     "output_type": "display_data"
    }
   ],
   "source": [
    "from statsmodels.graphics.gofplots import qqplot\n",
    "\n",
    "qqplot(kickstarter.duration, line='s')"
   ]
  },
  {
   "cell_type": "markdown",
   "metadata": {},
   "source": [
    "Except at the quantiles below -2 and above 3, the middle section of points closely fit the expected diagonal red line."
   ]
  },
  {
   "cell_type": "markdown",
   "metadata": {},
   "source": [
    "## Statistical Check 1. Shapiro"
   ]
  },
  {
   "cell_type": "code",
   "execution_count": 10,
   "metadata": {
    "ExecuteTime": {
     "end_time": "2018-12-20T05:06:53.033502Z",
     "start_time": "2018-12-20T05:06:52.821502Z"
    }
   },
   "outputs": [
    {
     "name": "stderr",
     "output_type": "stream",
     "text": [
      "C:\\Users\\hanqi\\AppData\\Local\\Continuum\\anaconda3\\lib\\site-packages\\scipy\\stats\\morestats.py:1309: UserWarning: p-value may not be accurate for N > 5000.\n",
      "  warnings.warn(\"p-value may not be accurate for N > 5000.\")\n"
     ]
    },
    {
     "data": {
      "text/plain": [
       "(0.8854528665542603, 0.0)"
      ]
     },
     "execution_count": 10,
     "metadata": {},
     "output_type": "execute_result"
    }
   ],
   "source": [
    "from scipy.stats import shapiro\n",
    "\n",
    "shapiro(kickstarter.duration) "
   ]
  },
  {
   "cell_type": "code",
   "execution_count": 11,
   "metadata": {
    "ExecuteTime": {
     "end_time": "2018-12-20T05:06:53.173502Z",
     "start_time": "2018-12-20T05:06:53.036502Z"
    }
   },
   "outputs": [
    {
     "data": {
      "text/plain": [
       "Index(['project id', 'name', 'url', 'category', 'subcategory', 'location',\n",
       "       'status', 'goal', 'pledged', 'funded percentage', 'backers',\n",
       "       'funded date', 'levels', 'reward levels', 'updates', 'comments',\n",
       "       'duration'],\n",
       "      dtype='object')"
      ]
     },
     "execution_count": 11,
     "metadata": {},
     "output_type": "execute_result"
    }
   ],
   "source": [
    "kickstarter.columns"
   ]
  },
  {
   "cell_type": "markdown",
   "metadata": {},
   "source": [
    "# Discovering factors for a successful KickStarter Campaign "
   ]
  },
  {
   "cell_type": "markdown",
   "metadata": {},
   "source": [
    "To study success, we must first define it. \n",
    "Possible factors (inspired by Kickstarter website's sorting function dropdown list options) are \n",
    "* most funded\n",
    "* most backed.\n",
    "\n",
    "Kickstarter is fundamentally about getting sufficient money to begin a project, so the number of backers and whether the funding is huge or significantly exceeds the funding goal does not really matter  as long as the funding goal is met. Kickstarter is all-or-nothing, so **success would be defined as the `funded percentage` column in the dataset having a value of >= 1, meaning the funding goal is met. **\n",
    "\n",
    "The advantage of using `funded percentage` column compared to looking for \"successful\" value under status column is that the funded percentage allows for numerical computations to study the difference between those bareful successful and wildly successful through some anomaly detection methods, in addition to the analysis of factors separating the binary success/failure of a project, which is what the `status` column affords, possibly leading to richer insights on crowdfunding psychology. (eg. Most of the extremely high funding percentages have very low funding goals)."
   ]
  },
  {
   "cell_type": "code",
   "execution_count": 12,
   "metadata": {
    "ExecuteTime": {
     "end_time": "2018-12-20T05:06:53.274502Z",
     "start_time": "2018-12-20T05:06:53.175502Z"
    }
   },
   "outputs": [
    {
     "data": {
      "text/plain": [
       "(14312.75, 15066.0]                  1\n",
       "(13559.5, 14312.75]                  0\n",
       "(12806.25, 13559.5]                  0\n",
       "(12053.0, 12806.25]                  0\n",
       "(11299.75, 12053.0]                  0\n",
       "(10546.5, 11299.75]                  0\n",
       "(9793.25, 10546.5]                   1\n",
       "(9040.0, 9793.25]                    0\n",
       "(8286.75, 9040.0]                    0\n",
       "(7533.5, 8286.75]                    0\n",
       "(6780.25, 7533.5]                    0\n",
       "(6027.0, 6780.25]                    0\n",
       "(5273.75, 6027.0]                    0\n",
       "(4520.5, 5273.75]                    0\n",
       "(3767.25, 4520.5]                    0\n",
       "(3014.0, 3767.25]                    0\n",
       "(2260.75, 3014.0]                    2\n",
       "(1507.5, 2260.75]                    2\n",
       "(754.25, 1507.5]                     7\n",
       "(-14.065999999999999, 754.25]    23468\n",
       "Name: funded percentage, dtype: int64"
      ]
     },
     "execution_count": 12,
     "metadata": {},
     "output_type": "execute_result"
    }
   ],
   "source": [
    "kickstarter[kickstarter['funded percentage']>=1]['funded percentage'].value_counts(bins=20).sort_index(ascending=False)"
   ]
  },
  {
   "cell_type": "markdown",
   "metadata": {},
   "source": [
    "## Point to note: those with very high funding percentage (>1000) have very low funding goals (<= 100)"
   ]
  },
  {
   "cell_type": "code",
   "execution_count": 13,
   "metadata": {
    "ExecuteTime": {
     "end_time": "2018-12-20T05:06:53.370502Z",
     "start_time": "2018-12-20T05:06:53.276502Z"
    }
   },
   "outputs": [
    {
     "data": {
      "text/html": [
       "<div>\n",
       "<style scoped>\n",
       "    .dataframe tbody tr th:only-of-type {\n",
       "        vertical-align: middle;\n",
       "    }\n",
       "\n",
       "    .dataframe tbody tr th {\n",
       "        vertical-align: top;\n",
       "    }\n",
       "\n",
       "    .dataframe thead th {\n",
       "        text-align: right;\n",
       "    }\n",
       "</style>\n",
       "<table border=\"1\" class=\"dataframe\">\n",
       "  <thead>\n",
       "    <tr style=\"text-align: right;\">\n",
       "      <th></th>\n",
       "      <th>project id</th>\n",
       "      <th>name</th>\n",
       "      <th>url</th>\n",
       "      <th>category</th>\n",
       "      <th>subcategory</th>\n",
       "      <th>location</th>\n",
       "      <th>status</th>\n",
       "      <th>goal</th>\n",
       "      <th>pledged</th>\n",
       "      <th>funded percentage</th>\n",
       "      <th>backers</th>\n",
       "      <th>funded date</th>\n",
       "      <th>levels</th>\n",
       "      <th>reward levels</th>\n",
       "      <th>updates</th>\n",
       "      <th>comments</th>\n",
       "      <th>duration</th>\n",
       "    </tr>\n",
       "  </thead>\n",
       "  <tbody>\n",
       "    <tr>\n",
       "      <th>5144</th>\n",
       "      <td>243600098</td>\n",
       "      <td>Traversing the United States</td>\n",
       "      <td>http://www.kickstarter.com/projects/1028586349...</td>\n",
       "      <td>Publishing</td>\n",
       "      <td>Publishing</td>\n",
       "      <td>Oxford, GA</td>\n",
       "      <td>successful</td>\n",
       "      <td>1.00</td>\n",
       "      <td>1568.0</td>\n",
       "      <td>1568.0000</td>\n",
       "      <td>31</td>\n",
       "      <td>Sun, 10 Apr 2011 03:27:58 -0000</td>\n",
       "      <td>4</td>\n",
       "      <td>$1,$10,$25,$100</td>\n",
       "      <td>0</td>\n",
       "      <td>0</td>\n",
       "      <td>30.96</td>\n",
       "    </tr>\n",
       "    <tr>\n",
       "      <th>6628</th>\n",
       "      <td>313013590</td>\n",
       "      <td>Y (A Generation)</td>\n",
       "      <td>http://www.kickstarter.com/projects/1599262517...</td>\n",
       "      <td>Film &amp;amp; Video</td>\n",
       "      <td>Documentary</td>\n",
       "      <td>New Orleans, LA</td>\n",
       "      <td>successful</td>\n",
       "      <td>1.00</td>\n",
       "      <td>15066.0</td>\n",
       "      <td>15066.0000</td>\n",
       "      <td>29</td>\n",
       "      <td>Sat, 27 Nov 2010 06:00:00 -0000</td>\n",
       "      <td>9</td>\n",
       "      <td>$5,$10,$25,$50,$100,$200,$500,$1,000,$5,000</td>\n",
       "      <td>12</td>\n",
       "      <td>2</td>\n",
       "      <td>49.27</td>\n",
       "    </tr>\n",
       "    <tr>\n",
       "      <th>13057</th>\n",
       "      <td>620302213</td>\n",
       "      <td>LOVELAND Round 6: A Force More Powerful</td>\n",
       "      <td>http://www.kickstarter.com/projects/jerry/love...</td>\n",
       "      <td>Art</td>\n",
       "      <td>Conceptual Art</td>\n",
       "      <td>Detroit, MI</td>\n",
       "      <td>successful</td>\n",
       "      <td>0.01</td>\n",
       "      <td>100.0</td>\n",
       "      <td>10000.0000</td>\n",
       "      <td>6</td>\n",
       "      <td>Fri, 04 Dec 2009 06:07:00 -0000</td>\n",
       "      <td>0</td>\n",
       "      <td>NaN</td>\n",
       "      <td>12</td>\n",
       "      <td>2</td>\n",
       "      <td>8.97</td>\n",
       "    </tr>\n",
       "    <tr>\n",
       "      <th>14561</th>\n",
       "      <td>690081674</td>\n",
       "      <td>Timber! records their first record!</td>\n",
       "      <td>http://www.kickstarter.com/projects/1748758279...</td>\n",
       "      <td>Music</td>\n",
       "      <td>Indie Rock</td>\n",
       "      <td>Provo, UT</td>\n",
       "      <td>successful</td>\n",
       "      <td>1.00</td>\n",
       "      <td>1722.0</td>\n",
       "      <td>1722.4700</td>\n",
       "      <td>59</td>\n",
       "      <td>Mon, 16 May 2011 08:06:53 -0000</td>\n",
       "      <td>8</td>\n",
       "      <td>$1,$3,$10,$20,$30,$50,$100,$300</td>\n",
       "      <td>1</td>\n",
       "      <td>5</td>\n",
       "      <td>40.00</td>\n",
       "    </tr>\n",
       "    <tr>\n",
       "      <th>23445</th>\n",
       "      <td>1100872151</td>\n",
       "      <td>The Let's Make a Bunch of Logos Project Part 3</td>\n",
       "      <td>http://www.kickstarter.com/projects/1176805404...</td>\n",
       "      <td>Design</td>\n",
       "      <td>Graphic Design</td>\n",
       "      <td>Las Vegas, NV</td>\n",
       "      <td>successful</td>\n",
       "      <td>25.00</td>\n",
       "      <td>26244.0</td>\n",
       "      <td>1049.7432</td>\n",
       "      <td>475</td>\n",
       "      <td>Sat, 14 Jan 2012 17:37:21 -0000</td>\n",
       "      <td>4</td>\n",
       "      <td>$25,$50,$100,$150</td>\n",
       "      <td>11</td>\n",
       "      <td>66</td>\n",
       "      <td>30.00</td>\n",
       "    </tr>\n",
       "    <tr>\n",
       "      <th>27556</th>\n",
       "      <td>1296661668</td>\n",
       "      <td>Solid Watch</td>\n",
       "      <td>http://www.kickstarter.com/projects/419867827/...</td>\n",
       "      <td>Design</td>\n",
       "      <td>Product Design</td>\n",
       "      <td>San Francisco, CA</td>\n",
       "      <td>successful</td>\n",
       "      <td>100.00</td>\n",
       "      <td>134090.0</td>\n",
       "      <td>1340.9000</td>\n",
       "      <td>474</td>\n",
       "      <td>Mon, 29 Aug 2011 05:01:49 -0000</td>\n",
       "      <td>22</td>\n",
       "      <td>$1,$20,$23,$24,$25,$96,$98,$100,$121,$123,$125...</td>\n",
       "      <td>15</td>\n",
       "      <td>385</td>\n",
       "      <td>90.00</td>\n",
       "    </tr>\n",
       "    <tr>\n",
       "      <th>29360</th>\n",
       "      <td>1379896118</td>\n",
       "      <td>Last Call Spring Tour 2011</td>\n",
       "      <td>http://www.kickstarter.com/projects/467528112/...</td>\n",
       "      <td>Theater</td>\n",
       "      <td>Theater</td>\n",
       "      <td>Greensboro, NC</td>\n",
       "      <td>successful</td>\n",
       "      <td>1.00</td>\n",
       "      <td>1100.0</td>\n",
       "      <td>1100.0000</td>\n",
       "      <td>9</td>\n",
       "      <td>Sat, 16 Apr 2011 05:56:15 -0000</td>\n",
       "      <td>1</td>\n",
       "      <td>$100</td>\n",
       "      <td>1</td>\n",
       "      <td>0</td>\n",
       "      <td>31.00</td>\n",
       "    </tr>\n",
       "    <tr>\n",
       "      <th>29868</th>\n",
       "      <td>1404938334</td>\n",
       "      <td>THE SKY HAS FALLEN - All Practical FX Horror Film</td>\n",
       "      <td>http://www.kickstarter.com/projects/37572539/t...</td>\n",
       "      <td>Film &amp;amp; Video</td>\n",
       "      <td>Narrative Film</td>\n",
       "      <td>Springfield, MO</td>\n",
       "      <td>successful</td>\n",
       "      <td>1.00</td>\n",
       "      <td>2867.0</td>\n",
       "      <td>2866.5000</td>\n",
       "      <td>41</td>\n",
       "      <td>Fri, 23 Mar 2012 06:02:15 -0000</td>\n",
       "      <td>13</td>\n",
       "      <td>$1,$5,$10,$20,$30,$50,$100,$150,$200,$500,$1,0...</td>\n",
       "      <td>7</td>\n",
       "      <td>2</td>\n",
       "      <td>29.96</td>\n",
       "    </tr>\n",
       "    <tr>\n",
       "      <th>33072</th>\n",
       "      <td>1555376536</td>\n",
       "      <td>THE SKY HAS FALLEN - Independent Horror Film</td>\n",
       "      <td>http://www.kickstarter.com/projects/37572539/t...</td>\n",
       "      <td>Film &amp;amp; Video</td>\n",
       "      <td>Narrative Film</td>\n",
       "      <td>Springfield, MO</td>\n",
       "      <td>successful</td>\n",
       "      <td>1.00</td>\n",
       "      <td>2795.0</td>\n",
       "      <td>2795.0000</td>\n",
       "      <td>24</td>\n",
       "      <td>Sat, 20 Aug 2011 11:48:18 -0000</td>\n",
       "      <td>11</td>\n",
       "      <td>$1,$10,$15,$30,$50,$100,$150,$500,$1,000,$1,50...</td>\n",
       "      <td>13</td>\n",
       "      <td>0</td>\n",
       "      <td>70.00</td>\n",
       "    </tr>\n",
       "    <tr>\n",
       "      <th>37237</th>\n",
       "      <td>1751366562</td>\n",
       "      <td>Flying Fortress Volume 1</td>\n",
       "      <td>http://www.kickstarter.com/projects/eeweathers...</td>\n",
       "      <td>Comics</td>\n",
       "      <td>Comics</td>\n",
       "      <td>Boulder, CO</td>\n",
       "      <td>successful</td>\n",
       "      <td>1.00</td>\n",
       "      <td>1095.0</td>\n",
       "      <td>1095.0000</td>\n",
       "      <td>40</td>\n",
       "      <td>Thu, 01 Mar 2012 05:01:00 -0000</td>\n",
       "      <td>15</td>\n",
       "      <td>$1,$5,$8,$15,$25,$35,$45,$45,$55,$65,$75,$99,$...</td>\n",
       "      <td>9</td>\n",
       "      <td>10</td>\n",
       "      <td>44.82</td>\n",
       "    </tr>\n",
       "    <tr>\n",
       "      <th>39448</th>\n",
       "      <td>1850371890</td>\n",
       "      <td>Lima: The Untold Story</td>\n",
       "      <td>http://www.kickstarter.com/projects/themarsrob...</td>\n",
       "      <td>Film &amp;amp; Video</td>\n",
       "      <td>Short Film</td>\n",
       "      <td>New York, NY</td>\n",
       "      <td>successful</td>\n",
       "      <td>1.00</td>\n",
       "      <td>1156.0</td>\n",
       "      <td>1156.0000</td>\n",
       "      <td>14</td>\n",
       "      <td>Fri, 06 Apr 2012 15:01:00 -0000</td>\n",
       "      <td>8</td>\n",
       "      <td>$1,$5,$10,$15,$25,$50,$75,$100</td>\n",
       "      <td>16</td>\n",
       "      <td>0</td>\n",
       "      <td>23.85</td>\n",
       "    </tr>\n",
       "    <tr>\n",
       "      <th>42018</th>\n",
       "      <td>1970124603</td>\n",
       "      <td>THE SKY HAS FALLEN - New Award-Winning Horror ...</td>\n",
       "      <td>http://www.kickstarter.com/projects/37572539/t...</td>\n",
       "      <td>Film &amp;amp; Video</td>\n",
       "      <td>Narrative Film</td>\n",
       "      <td>Springfield, MO</td>\n",
       "      <td>successful</td>\n",
       "      <td>1.00</td>\n",
       "      <td>1406.0</td>\n",
       "      <td>1406.0000</td>\n",
       "      <td>28</td>\n",
       "      <td>Thu, 26 Apr 2012 02:00:00 -0000</td>\n",
       "      <td>11</td>\n",
       "      <td>$1,$10,$20,$30,$50,$100,$150,$200,$500,$1,000,...</td>\n",
       "      <td>6</td>\n",
       "      <td>0</td>\n",
       "      <td>26.81</td>\n",
       "    </tr>\n",
       "  </tbody>\n",
       "</table>\n",
       "</div>"
      ],
      "text/plain": [
       "       project id                                               name  \\\n",
       "5144    243600098                       Traversing the United States   \n",
       "6628    313013590                                   Y (A Generation)   \n",
       "13057   620302213            LOVELAND Round 6: A Force More Powerful   \n",
       "14561   690081674                Timber! records their first record!   \n",
       "23445  1100872151     The Let's Make a Bunch of Logos Project Part 3   \n",
       "27556  1296661668                                        Solid Watch   \n",
       "29360  1379896118                         Last Call Spring Tour 2011   \n",
       "29868  1404938334  THE SKY HAS FALLEN - All Practical FX Horror Film   \n",
       "33072  1555376536       THE SKY HAS FALLEN - Independent Horror Film   \n",
       "37237  1751366562                           Flying Fortress Volume 1   \n",
       "39448  1850371890                             Lima: The Untold Story   \n",
       "42018  1970124603  THE SKY HAS FALLEN - New Award-Winning Horror ...   \n",
       "\n",
       "                                                     url          category  \\\n",
       "5144   http://www.kickstarter.com/projects/1028586349...        Publishing   \n",
       "6628   http://www.kickstarter.com/projects/1599262517...  Film &amp; Video   \n",
       "13057  http://www.kickstarter.com/projects/jerry/love...               Art   \n",
       "14561  http://www.kickstarter.com/projects/1748758279...             Music   \n",
       "23445  http://www.kickstarter.com/projects/1176805404...            Design   \n",
       "27556  http://www.kickstarter.com/projects/419867827/...            Design   \n",
       "29360  http://www.kickstarter.com/projects/467528112/...           Theater   \n",
       "29868  http://www.kickstarter.com/projects/37572539/t...  Film &amp; Video   \n",
       "33072  http://www.kickstarter.com/projects/37572539/t...  Film &amp; Video   \n",
       "37237  http://www.kickstarter.com/projects/eeweathers...            Comics   \n",
       "39448  http://www.kickstarter.com/projects/themarsrob...  Film &amp; Video   \n",
       "42018  http://www.kickstarter.com/projects/37572539/t...  Film &amp; Video   \n",
       "\n",
       "          subcategory           location      status    goal   pledged  \\\n",
       "5144       Publishing         Oxford, GA  successful    1.00    1568.0   \n",
       "6628      Documentary    New Orleans, LA  successful    1.00   15066.0   \n",
       "13057  Conceptual Art        Detroit, MI  successful    0.01     100.0   \n",
       "14561      Indie Rock          Provo, UT  successful    1.00    1722.0   \n",
       "23445  Graphic Design      Las Vegas, NV  successful   25.00   26244.0   \n",
       "27556  Product Design  San Francisco, CA  successful  100.00  134090.0   \n",
       "29360         Theater     Greensboro, NC  successful    1.00    1100.0   \n",
       "29868  Narrative Film    Springfield, MO  successful    1.00    2867.0   \n",
       "33072  Narrative Film    Springfield, MO  successful    1.00    2795.0   \n",
       "37237          Comics        Boulder, CO  successful    1.00    1095.0   \n",
       "39448      Short Film       New York, NY  successful    1.00    1156.0   \n",
       "42018  Narrative Film    Springfield, MO  successful    1.00    1406.0   \n",
       "\n",
       "       funded percentage  backers                      funded date  levels  \\\n",
       "5144           1568.0000       31  Sun, 10 Apr 2011 03:27:58 -0000       4   \n",
       "6628          15066.0000       29  Sat, 27 Nov 2010 06:00:00 -0000       9   \n",
       "13057         10000.0000        6  Fri, 04 Dec 2009 06:07:00 -0000       0   \n",
       "14561          1722.4700       59  Mon, 16 May 2011 08:06:53 -0000       8   \n",
       "23445          1049.7432      475  Sat, 14 Jan 2012 17:37:21 -0000       4   \n",
       "27556          1340.9000      474  Mon, 29 Aug 2011 05:01:49 -0000      22   \n",
       "29360          1100.0000        9  Sat, 16 Apr 2011 05:56:15 -0000       1   \n",
       "29868          2866.5000       41  Fri, 23 Mar 2012 06:02:15 -0000      13   \n",
       "33072          2795.0000       24  Sat, 20 Aug 2011 11:48:18 -0000      11   \n",
       "37237          1095.0000       40  Thu, 01 Mar 2012 05:01:00 -0000      15   \n",
       "39448          1156.0000       14  Fri, 06 Apr 2012 15:01:00 -0000       8   \n",
       "42018          1406.0000       28  Thu, 26 Apr 2012 02:00:00 -0000      11   \n",
       "\n",
       "                                           reward levels  updates  comments  \\\n",
       "5144                                     $1,$10,$25,$100        0         0   \n",
       "6628         $5,$10,$25,$50,$100,$200,$500,$1,000,$5,000       12         2   \n",
       "13057                                                NaN       12         2   \n",
       "14561                    $1,$3,$10,$20,$30,$50,$100,$300        1         5   \n",
       "23445                                  $25,$50,$100,$150       11        66   \n",
       "27556  $1,$20,$23,$24,$25,$96,$98,$100,$121,$123,$125...       15       385   \n",
       "29360                                               $100        1         0   \n",
       "29868  $1,$5,$10,$20,$30,$50,$100,$150,$200,$500,$1,0...        7         2   \n",
       "33072  $1,$10,$15,$30,$50,$100,$150,$500,$1,000,$1,50...       13         0   \n",
       "37237  $1,$5,$8,$15,$25,$35,$45,$45,$55,$65,$75,$99,$...        9        10   \n",
       "39448                     $1,$5,$10,$15,$25,$50,$75,$100       16         0   \n",
       "42018  $1,$10,$20,$30,$50,$100,$150,$200,$500,$1,000,...        6         0   \n",
       "\n",
       "       duration  \n",
       "5144      30.96  \n",
       "6628      49.27  \n",
       "13057      8.97  \n",
       "14561     40.00  \n",
       "23445     30.00  \n",
       "27556     90.00  \n",
       "29360     31.00  \n",
       "29868     29.96  \n",
       "33072     70.00  \n",
       "37237     44.82  \n",
       "39448     23.85  \n",
       "42018     26.81  "
      ]
     },
     "execution_count": 13,
     "metadata": {},
     "output_type": "execute_result"
    }
   ],
   "source": [
    "kickstarter[kickstarter['funded percentage']>=1000]"
   ]
  },
  {
   "cell_type": "code",
   "execution_count": 14,
   "metadata": {
    "ExecuteTime": {
     "end_time": "2018-12-20T05:06:53.582502Z",
     "start_time": "2018-12-20T05:06:53.371502Z"
    }
   },
   "outputs": [
    {
     "data": {
      "image/png": "[encoded data removed]",
      "text/plain": [
       "<Figure size 432x288 with 1 Axes>"
      ]
     },
     "metadata": {
      "needs_background": "light"
     },
     "output_type": "display_data"
    }
   ],
   "source": [
    "kickstarter[kickstarter['funded percentage']>=1]['funded percentage'].hist(bins=40)\n",
    "plt.xlabel('funded percentage')\n",
    "plt.ylabel('Frequency')\n",
    "plt.show()"
   ]
  },
  {
   "cell_type": "markdown",
   "metadata": {},
   "source": [
    "## Note of caution when using funding percentage vs status to measure success"
   ]
  },
  {
   "cell_type": "code",
   "execution_count": 15,
   "metadata": {
    "ExecuteTime": {
     "end_time": "2018-12-20T05:06:53.605502Z",
     "start_time": "2018-12-20T05:06:53.587502Z"
    }
   },
   "outputs": [
    {
     "data": {
      "text/plain": [
       "successful    22967\n",
       "live            509\n",
       "failed            4\n",
       "suspended         1\n",
       "Name: status, dtype: int64"
      ]
     },
     "execution_count": 15,
     "metadata": {},
     "output_type": "execute_result"
    }
   ],
   "source": [
    "kickstarter[kickstarter['funded percentage']>=1].status.value_counts()"
   ]
  },
  {
   "cell_type": "markdown",
   "metadata": {},
   "source": [
    "Testing the hypothesis that all projects with funded percentage >= 1 is successful, we realize that that is not true. From this dataset, 4 of them failed and 1 is suspended. Such is a failure of execution and delivery, instead of a failure of raising enough money to begin the project. Because it represents such a small percentage of successfully funded projects, and because the execution/delivery stage involves much more qualitative/human risk factors that are hard to quantify, we can safely ignore such anomalies and assume that projects with funded percentage >= 1 will end in success.  "
   ]
  },
  {
   "cell_type": "markdown",
   "metadata": {},
   "source": [
    "# Best Length of time to run a campaign "
   ]
  },
  {
   "cell_type": "markdown",
   "metadata": {},
   "source": [
    "## Scattering different levels "
   ]
  },
  {
   "cell_type": "code",
   "execution_count": 16,
   "metadata": {
    "ExecuteTime": {
     "end_time": "2018-12-20T05:06:53.621502Z",
     "start_time": "2018-12-20T05:06:53.607502Z"
    }
   },
   "outputs": [
    {
     "data": {
      "text/plain": [
       "30.00    11113\n",
       "60.00     2971\n",
       "45.00     2003\n",
       "29.96     1314\n",
       "60.04      874\n",
       "40.00      841\n",
       "59.96      740\n",
       "30.04      695\n",
       "35.00      584\n",
       "31.00      501\n",
       "90.00      479\n",
       "21.00      378\n",
       "44.96      343\n",
       "20.00      323\n",
       "25.00      301\n",
       "90.96      297\n",
       "45.04      296\n",
       "15.00      262\n",
       "14.00      216\n",
       "50.00      213\n",
       "30.96      198\n",
       "60.96      179\n",
       "32.00      174\n",
       "33.00      163\n",
       "90.04      156\n",
       "39.96      140\n",
       "40.04      132\n",
       "28.00      125\n",
       "45.96      120\n",
       "46.00      111\n",
       "         ...  \n",
       "16.44        1\n",
       "16.80        1\n",
       "22.32        1\n",
       "43.40        1\n",
       "3.30         1\n",
       "79.99        1\n",
       "86.48        1\n",
       "17.59        1\n",
       "80.58        1\n",
       "71.40        1\n",
       "6.52         1\n",
       "35.80        1\n",
       "54.58        1\n",
       "62.82        1\n",
       "80.61        1\n",
       "23.20        1\n",
       "76.56        1\n",
       "66.63        1\n",
       "74.16        1\n",
       "5.87         1\n",
       "85.29        1\n",
       "77.21        1\n",
       "55.76        1\n",
       "18.28        1\n",
       "87.73        1\n",
       "18.99        1\n",
       "60.52        1\n",
       "88.59        1\n",
       "80.41        1\n",
       "88.67        1\n",
       "Name: duration, Length: 5954, dtype: int64"
      ]
     },
     "execution_count": 16,
     "metadata": {},
     "output_type": "execute_result"
    }
   ],
   "source": [
    "kickstarter.duration.value_counts()"
   ]
  },
  {
   "cell_type": "code",
   "execution_count": 17,
   "metadata": {
    "ExecuteTime": {
     "end_time": "2018-12-20T05:06:55.803502Z",
     "start_time": "2018-12-20T05:06:53.622502Z"
    }
   },
   "outputs": [
    {
     "data": {
      "image/png": "[encoded data removed]",
      "text/plain": [
       "<Figure size 864x864 with 4 Axes>"
      ]
     },
     "metadata": {
      "needs_background": "light"
     },
     "output_type": "display_data"
    }
   ],
   "source": [
    "fig = plt.figure(figsize=(12,12))\n",
    "plt.suptitle('Zooming in on funded percentages',fontsize=26) #using plt.title spoils x-label of bottom 2 plots\n",
    "i = 1000\n",
    "subplot = 1\n",
    "colors = [None,'r','g','b','y']\n",
    "while i>= 1:\n",
    "    ax = fig.add_subplot(2,2,subplot)\n",
    "    ax.scatter(kickstarter.duration,kickstarter['funded percentage'],c=colors[subplot])\n",
    "    ax.set_ylim([0,i])\n",
    "    i/=10\n",
    "    \n",
    "    if subplot in [3,4]:\n",
    "        ax.set_xlabel('Duration')\n",
    "    if subplot in [1,3]:\n",
    "        ax.set_ylabel('Funded Percentage')\n",
    "    subplot += 1\n",
    "    \n",
    "plt.show()"
   ]
  },
  {
   "cell_type": "markdown",
   "metadata": {},
   "source": [
    "## Insight "
   ]
  },
  {
   "cell_type": "markdown",
   "metadata": {},
   "source": [
    "Like a fountain shooting up droplets of water, we can identify outliers and progressively zoom in to exclude the outliers(extremely high funded percentages with very low funding goals) from our visualization to save data manipulation time.\n",
    "\n",
    "We can see that projects with duration 30 and 60 have noticeably higher funded percentages than projects with other durations. This observation is consistent across a few levels of detail, even in the bottom right yellow plot with \"nearly funded\" projects with funded percentage < 1, so the best length of time to run is either 30 or 60 as a first consideration. In the bottom left blue plot, we also notice spikes at 45 days and 90 days. 45, 90 could be considered as a 2nd set of options if 30,60 does not fit well with project objectives."
   ]
  },
  {
   "cell_type": "markdown",
   "metadata": {},
   "source": [
    "## Clarifying densitys to prevent overplotting in scatterplot "
   ]
  },
  {
   "cell_type": "code",
   "execution_count": 18,
   "metadata": {
    "ExecuteTime": {
     "end_time": "2018-12-20T05:06:56.075502Z",
     "start_time": "2018-12-20T05:06:55.805502Z"
    }
   },
   "outputs": [
    {
     "name": "stderr",
     "output_type": "stream",
     "text": [
      "C:\\Users\\hanqi\\AppData\\Local\\Continuum\\anaconda3\\lib\\site-packages\\scipy\\stats\\stats.py:1713: FutureWarning: Using a non-tuple sequence for multidimensional indexing is deprecated; use `arr[tuple(seq)]` instead of `arr[seq]`. In the future this will be interpreted as an array index, `arr[np.array(seq)]`, which will result either in an error or a different result.\n",
      "  return np.add.reduce(sorted[indexer] * weights, axis=axis) / sumval\n"
     ]
    },
    {
     "data": {
      "image/png": "[encoded data removed]",
      "text/plain": [
       "<Figure size 432x288 with 1 Axes>"
      ]
     },
     "metadata": {
      "needs_background": "light"
     },
     "output_type": "display_data"
    }
   ],
   "source": [
    "import seaborn as sns\n",
    "\n",
    "sns.kdeplot(kickstarter[kickstarter['funded percentage'] >= 1].duration)\n",
    "plt.title('Kernel Density of project durations')\n",
    "plt.show()"
   ]
  },
  {
   "cell_type": "markdown",
   "metadata": {},
   "source": [
    "We see that the density plot has peaks at 30, 60, 45, 90. This means that we can be confident that we are not missing out other important durations due to overplotting in the 4 scatterplots above. Care is taken to filter only the successful projects for stronger evidence."
   ]
  },
  {
   "cell_type": "markdown",
   "metadata": {},
   "source": [
    "# Ideal Pledge Goal "
   ]
  },
  {
   "cell_type": "code",
   "execution_count": 19,
   "metadata": {
    "ExecuteTime": {
     "end_time": "2018-12-20T05:06:56.093502Z",
     "start_time": "2018-12-20T05:06:56.076502Z"
    }
   },
   "outputs": [
    {
     "name": "stdout",
     "output_type": "stream",
     "text": [
      "(23481, 17) (22476, 17)\n"
     ]
    }
   ],
   "source": [
    "success = kickstarter[(kickstarter['funded percentage'] >= 1) ]\n",
    "failure = kickstarter[(kickstarter['funded percentage'] < 1) ]\n",
    "print(success.shape,failure.shape)"
   ]
  },
  {
   "cell_type": "markdown",
   "metadata": {},
   "source": [
    "There are roughly equal number of success and failure (**both self-defined terms**) examples in this balanced(**by funded percentage**) dataset. This will support the accuracy of classification algorithms. "
   ]
  },
  {
   "cell_type": "code",
   "execution_count": 20,
   "metadata": {
    "ExecuteTime": {
     "end_time": "2018-12-20T05:06:56.113502Z",
     "start_time": "2018-12-20T05:06:56.095502Z"
    }
   },
   "outputs": [
    {
     "name": "stdout",
     "output_type": "stream",
     "text": [
      "min: 0.01 max: 21474836.47\n",
      "success min: 0.01 success max: 900000.0\n",
      "failure min: 0.01 failure max: 21474836.47\n",
      "0.01          1\n",
      "1.00         28\n",
      "3.00          2\n",
      "5.00          7\n",
      "10.00        10\n",
      "11.00         1\n",
      "12.00         2\n",
      "13.00         1\n",
      "15.00         4\n",
      "20.00         6\n",
      "20.10         1\n",
      "22.00         2\n",
      "25.00        13\n",
      "27.00         1\n",
      "30.00         5\n",
      "33.00         1\n",
      "35.00         2\n",
      "36.00         1\n",
      "40.00         4\n",
      "42.00         1\n",
      "45.00         1\n",
      "50.00        38\n",
      "55.00         1\n",
      "55.56         1\n",
      "56.00         1\n",
      "60.00         3\n",
      "65.00         1\n",
      "75.00         5\n",
      "84.00         1\n",
      "85.00         3\n",
      "             ..\n",
      "58000.00      1\n",
      "60000.00     19\n",
      "63000.00      1\n",
      "65000.00      6\n",
      "66000.00      1\n",
      "68000.00      1\n",
      "70000.00      4\n",
      "75000.00     17\n",
      "78715.00      1\n",
      "79000.00      1\n",
      "80000.00      8\n",
      "85000.00      2\n",
      "89072.00      1\n",
      "90000.00      2\n",
      "95000.00      1\n",
      "99999.00      1\n",
      "100000.00    23\n",
      "104000.00     1\n",
      "115000.00     1\n",
      "125000.00     5\n",
      "150000.00     6\n",
      "175000.00     1\n",
      "200000.00     2\n",
      "215000.00     1\n",
      "250000.00     1\n",
      "280000.00     1\n",
      "300000.00     1\n",
      "400000.00     3\n",
      "500000.00     2\n",
      "900000.00     1\n",
      "Name: goal, Length: 996, dtype: int64\n",
      "****************************************************************************************************\n",
      "0.50            1\n",
      "1.00            3\n",
      "1.85            1\n",
      "2.00            1\n",
      "10.00           4\n",
      "20.00           2\n",
      "24.00           1\n",
      "30.00           2\n",
      "40.00           3\n",
      "45.00           1\n",
      "50.00           4\n",
      "57.00           1\n",
      "60.00           2\n",
      "75.00           4\n",
      "83.00           1\n",
      "99.00           1\n",
      "100.00         43\n",
      "105.00          2\n",
      "111.00          2\n",
      "120.00          2\n",
      "123.00          1\n",
      "125.00          2\n",
      "140.00          1\n",
      "142.00          2\n",
      "145.00          1\n",
      "147.10          1\n",
      "150.00         23\n",
      "153.00          1\n",
      "160.00          1\n",
      "175.00          2\n",
      "               ..\n",
      "400000.00       4\n",
      "425000.00       1\n",
      "450000.00       2\n",
      "468661.00       1\n",
      "475000.00       1\n",
      "480000.00       1\n",
      "498129.55       1\n",
      "500000.00      15\n",
      "529000.00       1\n",
      "530000.00       1\n",
      "550000.00       1\n",
      "575000.00       1\n",
      "600000.00       2\n",
      "675000.00       1\n",
      "700000.00       1\n",
      "750000.00       1\n",
      "797267.00       1\n",
      "800000.00       1\n",
      "850000.00       1\n",
      "900000.00       2\n",
      "987000.00       1\n",
      "1000000.00      1\n",
      "1065000.00      1\n",
      "1200000.00      2\n",
      "3500000.00      2\n",
      "5250000.00      1\n",
      "15000000.00     1\n",
      "20000000.00     1\n",
      "21474836.00     1\n",
      "21474836.47     1\n",
      "Name: goal, Length: 1278, dtype: int64\n"
     ]
    }
   ],
   "source": [
    "print('min:', kickstarter.goal.min(), 'max:',kickstarter.goal.max())\n",
    "print('success min:', success.goal.min(), 'success max:',success.goal.max())\n",
    "print('failure min:', kickstarter.goal.min(), 'failure max:',failure.goal.max())\n",
    "\n",
    "print(success.goal.value_counts().sort_index())\n",
    "print('*'*100)\n",
    "print(failure.goal.value_counts().sort_index())"
   ]
  },
  {
   "cell_type": "markdown",
   "metadata": {},
   "source": [
    "The range of values in funding goals is too big. At every part of the range, we see both successful and failed funding attempts. (**measured by funded percentage**). Slicing up the total range into ranges growing by a factor of 10 could be a good strategy"
   ]
  },
  {
   "cell_type": "code",
   "execution_count": 21,
   "metadata": {
    "ExecuteTime": {
     "end_time": "2018-12-20T05:06:56.543502Z",
     "start_time": "2018-12-20T05:06:56.115502Z"
    }
   },
   "outputs": [
    {
     "name": "stdout",
     "output_type": "stream",
     "text": [
      "(0, 10]                   48\n",
      "(10, 100]                179\n",
      "(100, 1000]             5007\n",
      "(1000, 10000]          15806\n",
      "(10000, 100000]         2415\n",
      "(100000, 1000000]         26\n",
      "(1000000, 10000000]        0\n",
      "Name: goal, dtype: int64\n",
      "(0, 10]                   10\n",
      "(10, 100]                 65\n",
      "(100, 1000]             2528\n",
      "(1000, 10000]          13643\n",
      "(10000, 100000]         5856\n",
      "(100000, 1000000]        364\n",
      "(1000000, 10000000]        6\n",
      "Name: goal, dtype: int64\n"
     ]
    },
    {
     "data": {
      "image/png": "[encoded data removed]",
      "text/plain": [
       "<Figure size 432x288 with 1 Axes>"
      ]
     },
     "metadata": {
      "needs_background": "light"
     },
     "output_type": "display_data"
    }
   ],
   "source": [
    "bins = pd.IntervalIndex.from_tuples([(0, 10), (10, 100), (100, 1000),(1000,10000),(10000,100000),(100000,1000000),(1000000,10000000)])\n",
    "labels = [(0, 10), (10, 100), (100, 1000),(1000,10000),(10000,100000),(100000,1000000),(1000000,10000000)]\n",
    "str_labels = [str(value) for value in labels]\n",
    "\n",
    "success_counts = pd.cut(success.goal,bins).value_counts().sort_index()\n",
    "print(success_counts )\n",
    "plt.barh(y = str_labels, width = success_counts.values, alpha = 0.5, color='g')\n",
    "\n",
    "failure_counts = pd.cut(failure.goal,bins).value_counts().sort_index()\n",
    "print(failure_counts)\n",
    "plt.barh(y = str_labels, width = failure_counts.values,alpha = 0.5, color='r')\n",
    "\n",
    "plt.title('Successful and Failed funding attempts')\n",
    "plt.ylabel('Funding Goals')\n",
    "plt.xlabel('Number of Projects')\n",
    "plt.show()"
   ]
  },
  {
   "cell_type": "code",
   "execution_count": 22,
   "metadata": {
    "ExecuteTime": {
     "end_time": "2018-12-20T05:06:56.962502Z",
     "start_time": "2018-12-20T05:06:56.545502Z"
    }
   },
   "outputs": [
    {
     "data": {
      "image/png": "[encoded data removed]",
      "text/plain": [
       "<Figure size 432x288 with 1 Axes>"
      ]
     },
     "metadata": {
      "needs_background": "light"
     },
     "output_type": "display_data"
    }
   ],
   "source": [
    "difference = pd.cut(success.goal,bins).value_counts().sort_index() - pd.cut(failure.goal,bins).value_counts().sort_index()\n",
    "plt.barh(y = str_labels, width = difference.values, alpha = 0.5, color='b')\n",
    "\n",
    "plt.title('Excess of success over failure cases')\n",
    "plt.ylabel('Funding Goals')\n",
    "plt.xlabel('Number of Projects')\n",
    "plt.show()"
   ]
  },
  {
   "cell_type": "markdown",
   "metadata": {},
   "source": [
    "## Insight"
   ]
  },
  {
   "cell_type": "markdown",
   "metadata": {
    "ExecuteTime": {
     "end_time": "2018-08-20T14:44:18.187235Z",
     "start_time": "2018-08-20T14:44:18.156035Z"
    }
   },
   "source": [
    "We see that projects with funding goals ranging from 100 to 10000 generally have a higher number of success funding attempts compared to failure funding attempts. Thus, an ideal range is 100 - 10000."
   ]
  },
  {
   "cell_type": "markdown",
   "metadata": {},
   "source": [
    "# Type of projects most successful at getting funded "
   ]
  },
  {
   "cell_type": "markdown",
   "metadata": {
    "ExecuteTime": {
     "end_time": "2018-08-20T15:13:31.820443Z",
     "start_time": "2018-08-20T15:13:31.789243Z"
    }
   },
   "source": [
    "Pivot Tables with Multilevel indexes can be used for detailed subcategory level analysis, for the sake of simplicity, we will begin with category level analysis first."
   ]
  },
  {
   "cell_type": "markdown",
   "metadata": {},
   "source": [
    "## Data Cleaning "
   ]
  },
  {
   "cell_type": "code",
   "execution_count": 23,
   "metadata": {
    "ExecuteTime": {
     "end_time": "2018-12-20T05:06:56.975502Z",
     "start_time": "2018-12-20T05:06:56.964502Z"
    }
   },
   "outputs": [
    {
     "data": {
      "text/plain": [
       "Film &amp; Video    6796\n",
       "Music               3992\n",
       "Publishing          3046\n",
       "Art                 1843\n",
       "Games               1053\n",
       "Design               997\n",
       "Photography          849\n",
       "Theater              826\n",
       "Fashion              790\n",
       "Food                 775\n",
       "Comics               529\n",
       "Technology           510\n",
       "Film & Video         245\n",
       "Dance                225\n",
       "Name: category, dtype: int64"
      ]
     },
     "execution_count": 23,
     "metadata": {},
     "output_type": "execute_result"
    }
   ],
   "source": [
    "failure.category.value_counts()"
   ]
  },
  {
   "cell_type": "markdown",
   "metadata": {},
   "source": [
    "Film &amp; Video looks the same as Film & Video. We will edit all values that contain the former to the latter in both success and failure dataframes"
   ]
  },
  {
   "cell_type": "code",
   "execution_count": 24,
   "metadata": {
    "ExecuteTime": {
     "end_time": "2018-12-20T05:06:57.043502Z",
     "start_time": "2018-12-20T05:06:56.977502Z"
    }
   },
   "outputs": [
    {
     "name": "stderr",
     "output_type": "stream",
     "text": [
      "C:\\Users\\hanqi\\AppData\\Local\\Continuum\\anaconda3\\lib\\site-packages\\ipykernel_launcher.py:1: SettingWithCopyWarning: \n",
      "A value is trying to be set on a copy of a slice from a DataFrame.\n",
      "Try using .loc[row_indexer,col_indexer] = value instead\n",
      "\n",
      "See the caveats in the documentation: http://pandas.pydata.org/pandas-docs/stable/indexing.html#indexing-view-versus-copy\n",
      "  \"\"\"Entry point for launching an IPython kernel.\n"
     ]
    }
   ],
   "source": [
    "success['category'] = success['category'].replace(to_replace = 'Film &amp; Video', value = 'Film & Video')  #testing "
   ]
  },
  {
   "cell_type": "code",
   "execution_count": 25,
   "metadata": {
    "ExecuteTime": {
     "end_time": "2018-12-20T05:06:57.232502Z",
     "start_time": "2018-12-20T05:06:57.045502Z"
    }
   },
   "outputs": [],
   "source": [
    "success = success.replace(to_replace = 'Film &amp; Video', value = 'Film & Video')\n",
    "failure = failure.replace(to_replace = 'Film &amp; Video', value = 'Film & Video')"
   ]
  },
  {
   "cell_type": "markdown",
   "metadata": {},
   "source": [
    "## Checking correct replacement "
   ]
  },
  {
   "cell_type": "code",
   "execution_count": 26,
   "metadata": {
    "ExecuteTime": {
     "end_time": "2018-12-20T05:06:57.255502Z",
     "start_time": "2018-12-20T05:06:57.237502Z"
    }
   },
   "outputs": [
    {
     "data": {
      "text/plain": [
       "Film & Video    7041\n",
       "Music           3992\n",
       "Publishing      3046\n",
       "Art             1843\n",
       "Games           1053\n",
       "Design           997\n",
       "Photography      849\n",
       "Theater          826\n",
       "Fashion          790\n",
       "Food             775\n",
       "Comics           529\n",
       "Technology       510\n",
       "Dance            225\n",
       "Name: category, dtype: int64"
      ]
     },
     "execution_count": 26,
     "metadata": {},
     "output_type": "execute_result"
    }
   ],
   "source": [
    "failure.category.value_counts()"
   ]
  },
  {
   "cell_type": "markdown",
   "metadata": {},
   "source": [
    "## Comparison to own Category"
   ]
  },
  {
   "cell_type": "code",
   "execution_count": 27,
   "metadata": {
    "ExecuteTime": {
     "end_time": "2018-12-20T05:06:57.438502Z",
     "start_time": "2018-12-20T05:06:57.258502Z"
    }
   },
   "outputs": [
    {
     "data": {
      "image/png": "[encoded data removed]",
      "text/plain": [
       "<Figure size 720x720 with 1 Axes>"
      ]
     },
     "metadata": {
      "needs_background": "light"
     },
     "output_type": "display_data"
    }
   ],
   "source": [
    "success_over_fail = (success.category.value_counts()-failure.category.value_counts()).sort_values(ascending = False)\n",
    "plt.figure(figsize = (10,10))\n",
    "ticks = [i for i in range(len(success_over_fail))]\n",
    "plt.barh(y = ticks, width = success_over_fail.sort_values(ascending=True), tick_label = success_over_fail.sort_values(ascending = True).index)\n",
    "plt.title('Number of Successful projects over Failure')\n",
    "plt.show()"
   ]
  },
  {
   "cell_type": "code",
   "execution_count": 28,
   "metadata": {
    "ExecuteTime": {
     "end_time": "2018-12-20T05:06:57.449502Z",
     "start_time": "2018-12-20T05:06:57.443502Z"
    }
   },
   "outputs": [
    {
     "data": {
      "text/plain": [
       "Music           2929\n",
       "Theater          840\n",
       "Dance            311\n",
       "Art              306\n",
       "Comics            14\n",
       "Food            -111\n",
       "Photography     -184\n",
       "Technology      -209\n",
       "Design          -226\n",
       "Games           -368\n",
       "Fashion         -444\n",
       "Film & Video    -531\n",
       "Publishing     -1322\n",
       "Name: category, dtype: int64"
      ]
     },
     "execution_count": 28,
     "metadata": {},
     "output_type": "execute_result"
    }
   ],
   "source": [
    "success_over_fail"
   ]
  },
  {
   "cell_type": "markdown",
   "metadata": {},
   "source": [
    "Looking at the number of successful projects in excess of failed projects by category, Music, Theater, Dance, Art are the top 4 most successful types, with music at 2929 being significantly higher then theater in 2nd place at 840. The bottom 4 are Publishing, Film & Video, Fashion, Games. "
   ]
  },
  {
   "cell_type": "markdown",
   "metadata": {},
   "source": [
    "## Comparison among Categories "
   ]
  },
  {
   "cell_type": "code",
   "execution_count": 29,
   "metadata": {
    "ExecuteTime": {
     "end_time": "2018-12-20T05:06:57.492502Z",
     "start_time": "2018-12-20T05:06:57.452502Z"
    }
   },
   "outputs": [
    {
     "data": {
      "text/html": [
       "<div>\n",
       "<style scoped>\n",
       "    .dataframe tbody tr th:only-of-type {\n",
       "        vertical-align: middle;\n",
       "    }\n",
       "\n",
       "    .dataframe tbody tr th {\n",
       "        vertical-align: top;\n",
       "    }\n",
       "\n",
       "    .dataframe thead th {\n",
       "        text-align: right;\n",
       "    }\n",
       "</style>\n",
       "<table border=\"1\" class=\"dataframe\">\n",
       "  <thead>\n",
       "    <tr style=\"text-align: right;\">\n",
       "      <th></th>\n",
       "      <th>success</th>\n",
       "      <th>success_counts</th>\n",
       "      <th>failure</th>\n",
       "      <th>failure_counts</th>\n",
       "    </tr>\n",
       "  </thead>\n",
       "  <tbody>\n",
       "    <tr>\n",
       "      <th>0</th>\n",
       "      <td>Music</td>\n",
       "      <td>0.294749</td>\n",
       "      <td>Film &amp; Video</td>\n",
       "      <td>0.313267</td>\n",
       "    </tr>\n",
       "    <tr>\n",
       "      <th>1</th>\n",
       "      <td>Film &amp; Video</td>\n",
       "      <td>0.277245</td>\n",
       "      <td>Music</td>\n",
       "      <td>0.177612</td>\n",
       "    </tr>\n",
       "    <tr>\n",
       "      <th>2</th>\n",
       "      <td>Art</td>\n",
       "      <td>0.091521</td>\n",
       "      <td>Publishing</td>\n",
       "      <td>0.135522</td>\n",
       "    </tr>\n",
       "    <tr>\n",
       "      <th>3</th>\n",
       "      <td>Publishing</td>\n",
       "      <td>0.073421</td>\n",
       "      <td>Art</td>\n",
       "      <td>0.081999</td>\n",
       "    </tr>\n",
       "    <tr>\n",
       "      <th>4</th>\n",
       "      <td>Theater</td>\n",
       "      <td>0.070951</td>\n",
       "      <td>Games</td>\n",
       "      <td>0.046850</td>\n",
       "    </tr>\n",
       "    <tr>\n",
       "      <th>5</th>\n",
       "      <td>Design</td>\n",
       "      <td>0.032835</td>\n",
       "      <td>Design</td>\n",
       "      <td>0.044358</td>\n",
       "    </tr>\n",
       "    <tr>\n",
       "      <th>6</th>\n",
       "      <td>Games</td>\n",
       "      <td>0.029173</td>\n",
       "      <td>Photography</td>\n",
       "      <td>0.037774</td>\n",
       "    </tr>\n",
       "    <tr>\n",
       "      <th>7</th>\n",
       "      <td>Photography</td>\n",
       "      <td>0.028321</td>\n",
       "      <td>Theater</td>\n",
       "      <td>0.036750</td>\n",
       "    </tr>\n",
       "    <tr>\n",
       "      <th>8</th>\n",
       "      <td>Food</td>\n",
       "      <td>0.028278</td>\n",
       "      <td>Fashion</td>\n",
       "      <td>0.035149</td>\n",
       "    </tr>\n",
       "    <tr>\n",
       "      <th>9</th>\n",
       "      <td>Comics</td>\n",
       "      <td>0.023125</td>\n",
       "      <td>Food</td>\n",
       "      <td>0.034481</td>\n",
       "    </tr>\n",
       "    <tr>\n",
       "      <th>10</th>\n",
       "      <td>Dance</td>\n",
       "      <td>0.022827</td>\n",
       "      <td>Comics</td>\n",
       "      <td>0.023536</td>\n",
       "    </tr>\n",
       "    <tr>\n",
       "      <th>11</th>\n",
       "      <td>Fashion</td>\n",
       "      <td>0.014735</td>\n",
       "      <td>Technology</td>\n",
       "      <td>0.022691</td>\n",
       "    </tr>\n",
       "    <tr>\n",
       "      <th>12</th>\n",
       "      <td>Technology</td>\n",
       "      <td>0.012819</td>\n",
       "      <td>Dance</td>\n",
       "      <td>0.010011</td>\n",
       "    </tr>\n",
       "  </tbody>\n",
       "</table>\n",
       "</div>"
      ],
      "text/plain": [
       "         success  success_counts       failure  failure_counts\n",
       "0          Music        0.294749  Film & Video        0.313267\n",
       "1   Film & Video        0.277245         Music        0.177612\n",
       "2            Art        0.091521    Publishing        0.135522\n",
       "3     Publishing        0.073421           Art        0.081999\n",
       "4        Theater        0.070951         Games        0.046850\n",
       "5         Design        0.032835        Design        0.044358\n",
       "6          Games        0.029173   Photography        0.037774\n",
       "7    Photography        0.028321       Theater        0.036750\n",
       "8           Food        0.028278       Fashion        0.035149\n",
       "9         Comics        0.023125          Food        0.034481\n",
       "10         Dance        0.022827        Comics        0.023536\n",
       "11       Fashion        0.014735    Technology        0.022691\n",
       "12    Technology        0.012819         Dance        0.010011"
      ]
     },
     "execution_count": 29,
     "metadata": {},
     "output_type": "execute_result"
    }
   ],
   "source": [
    "d = {'success': success.category.value_counts(normalize = True).index,\n",
    "     'success_counts': success.category.value_counts(normalize = True).values,\n",
    "     'failure': failure.category.value_counts(normalize = True).index,\n",
    "     'failure_counts': failure.category.value_counts(normalize = True).values\n",
    "    }\n",
    "\n",
    "pd.DataFrame(data=d)"
   ]
  },
  {
   "cell_type": "markdown",
   "metadata": {},
   "source": [
    "Looking at the normalized frequency table of success, we see that among all the categories, Music, Film & Video, Art, Publishing takes the largest portion of successful projects. This is interesting because Film & Video and Publishing occupy the worst two in the previous bar graph, while the other 2 categories here are in the top 4 of the bar graph. This can be explained by looking at the normalized frequency table of failure, which contains the same top 4 types, albeit in a different order. Subtracting failures from success, both unnormalized frequency tables will reduce the significance of the absolute counts of successes of Film & Video and Publishing type projects and produce the bar graph above. Something to investigate is why are there still so many projects of the Film & Video and Publishing type being launched when these 2 have the worst success: failure rate    "
   ]
  },
  {
   "cell_type": "markdown",
   "metadata": {},
   "source": [
    "# Ideal Month/Day/Time to launch a campaign "
   ]
  },
  {
   "cell_type": "markdown",
   "metadata": {
    "ExecuteTime": {
     "end_time": "2018-08-20T11:57:21.626109Z",
     "start_time": "2018-08-20T11:57:21.610509Z"
    }
   },
   "source": [
    "It is unclear what the `funded date` column means, so i will interpret it as the launch date and time. We will attempt to analyze this separately by finding the ideal month, ideal day of month, ideal day of week, ideal time."
   ]
  },
  {
   "cell_type": "markdown",
   "metadata": {},
   "source": [
    "## Analyzing Ideal Month "
   ]
  },
  {
   "cell_type": "code",
   "execution_count": 30,
   "metadata": {
    "ExecuteTime": {
     "end_time": "2018-12-20T05:06:57.663502Z",
     "start_time": "2018-12-20T05:06:57.495502Z"
    }
   },
   "outputs": [
    {
     "data": {
      "image/png": "[encoded data removed]",
      "text/plain": [
       "<Figure size 432x288 with 1 Axes>"
      ]
     },
     "metadata": {
      "needs_background": "light"
     },
     "output_type": "display_data"
    }
   ],
   "source": [
    "def get_month(date):\n",
    "    return date.split()[2]\n",
    "\n",
    "success['month'] = success['funded date'].apply(get_month)\n",
    "failure['month'] = failure['funded date'].apply(get_month)\n",
    "\n",
    "difference_month = success.month.value_counts() - failure.month.value_counts()\n",
    "\n",
    "ticks = [i for i in range(len(difference_month))]\n",
    "plt.barh(y = ticks, width = difference_month.sort_values(ascending=True), \n",
    "         tick_label = difference_month.sort_values(ascending = True).index)\n",
    "plt.title('Number of Successful projects over Failure by Month')\n",
    "plt.show()"
   ]
  },
  {
   "cell_type": "markdown",
   "metadata": {},
   "source": [
    "April and March and the best months to launch, but generally, any month is fine, just aim to avoid July and June especially. "
   ]
  },
  {
   "cell_type": "markdown",
   "metadata": {},
   "source": [
    "## Analyzing Ideal Day of Month "
   ]
  },
  {
   "cell_type": "code",
   "execution_count": 31,
   "metadata": {
    "ExecuteTime": {
     "end_time": "2018-12-20T05:06:57.936502Z",
     "start_time": "2018-12-20T05:06:57.665502Z"
    }
   },
   "outputs": [
    {
     "data": {
      "image/png": "[encoded data removed]",
      "text/plain": [
       "<Figure size 720x720 with 1 Axes>"
      ]
     },
     "metadata": {
      "needs_background": "light"
     },
     "output_type": "display_data"
    }
   ],
   "source": [
    "def get_day_of_month(date):\n",
    "    return int(date.split()[1])\n",
    "\n",
    "success['day_of_month'] = success['funded date'].apply(get_day_of_month)\n",
    "failure['day_of_month'] = failure['funded date'].apply(get_day_of_month)\n",
    "\n",
    "difference_day_of_month = success.day_of_month.value_counts() - failure.day_of_month.value_counts()\n",
    "\n",
    "ticks = [i for i in range(len(difference_day_of_month))]\n",
    "plt.figure(figsize=(10,10))\n",
    "plt.barh(y = ticks, width = difference_day_of_month.sort_index(ascending=True), tick_label = difference_day_of_month.sort_index(ascending = True).index)\n",
    "plt.title('Number of Successful projects over Failure by Day of Month')\n",
    "plt.show()"
   ]
  },
  {
   "cell_type": "markdown",
   "metadata": {},
   "source": [
    "Generally, the 1st 3 days of the month have highest success ratios. The end of month (days 28-30) have low success ratios."
   ]
  },
  {
   "cell_type": "markdown",
   "metadata": {},
   "source": [
    "## Analyzing Ideal Day of Week "
   ]
  },
  {
   "cell_type": "code",
   "execution_count": 32,
   "metadata": {
    "ExecuteTime": {
     "end_time": "2018-12-20T05:06:58.089502Z",
     "start_time": "2018-12-20T05:06:57.938502Z"
    }
   },
   "outputs": [
    {
     "data": {
      "image/png": "[encoded data removed]",
      "text/plain": [
       "<Figure size 432x288 with 1 Axes>"
      ]
     },
     "metadata": {
      "needs_background": "light"
     },
     "output_type": "display_data"
    }
   ],
   "source": [
    "def get_day_of_week(date):\n",
    "    return date.split()[0][:-1]  # truncate ending ,\n",
    "\n",
    "success['day_of_week'] = success['funded date'].apply(get_day_of_week)\n",
    "failure['day_of_week'] = failure['funded date'].apply(get_day_of_week)\n",
    "\n",
    "difference_day_of_week = success.day_of_week.value_counts() - failure.day_of_week.value_counts()\n",
    "\n",
    "ticks = [i for i in range(len(difference_day_of_week))]\n",
    "plt.barh(y = ticks, width = difference_day_of_week.sort_values(ascending=True), tick_label = difference_day_of_week.sort_values(ascending = True).index)\n",
    "plt.title('Number of Successful projects over Failure by Day of Week')\n",
    "plt.show()"
   ]
  },
  {
   "cell_type": "markdown",
   "metadata": {},
   "source": [
    "Monday and Thursday have the highest success ratios, Friday is the worst."
   ]
  },
  {
   "cell_type": "markdown",
   "metadata": {
    "ExecuteTime": {
     "end_time": "2018-08-20T17:38:49.448070Z",
     "start_time": "2018-08-20T17:38:49.432470Z"
    }
   },
   "source": [
    "## Analyzing Ideal Time"
   ]
  },
  {
   "cell_type": "code",
   "execution_count": 33,
   "metadata": {
    "ExecuteTime": {
     "end_time": "2018-12-20T05:06:58.334502Z",
     "start_time": "2018-12-20T05:06:58.091502Z"
    }
   },
   "outputs": [
    {
     "data": {
      "image/png": "[encoded data removed]",
      "text/plain": [
       "<Figure size 720x720 with 1 Axes>"
      ]
     },
     "metadata": {
      "needs_background": "light"
     },
     "output_type": "display_data"
    }
   ],
   "source": [
    "def get_time(date):\n",
    "    return int(date.split()[4][:2])  # getting hours is sufficient\n",
    "\n",
    "success['time'] = success['funded date'].apply(get_time)\n",
    "failure['time'] = failure['funded date'].apply(get_time)\n",
    "\n",
    "difference_time= success.time.value_counts() - failure.time.value_counts()\n",
    "\n",
    "ticks = [i for i in range(len(difference_time))]\n",
    "\n",
    "plt.figure(figsize=(10,10))\n",
    "plt.barh(y = ticks, width = difference_time.sort_index(ascending=True), tick_label = difference_time.sort_index(ascending = True).index)\n",
    "plt.title('Number of Successful projects over Failure by Time of Day')\n",
    "plt.show()"
   ]
  },
  {
   "cell_type": "markdown",
   "metadata": {},
   "source": [
    "Projects launched between 3-7am have the best success ratios and 6-11pm have the worst success ratios. We should keep in mind for which timezone such time data is representing, and how this translates to times of backers in different timezones. This can affect the local time at which backers from different parts of the world see the project. Such a pattern may exist because projects that are launched from 3-7am are immediately viewed by backers when they wakeup at 8am, assuming the backers and the project launches are in the same timezone. People usually have the highest energy and are most alert in the morning, so these projects get the attention they deserve. \n",
    "\n",
    "Those projects launched 6-11pm may have bad results because people are winding down for the day then with less energy to look at new launches. These projects may also be pushed back further down the feed by those 3-7am launches so next morning, someone only has the energy to look through the 3-7am launches rather than go all the way back to the 6-11pm launches from last night. \n",
    "\n",
    "This hypothesis is more plausible if all funded dates are local time. If it's a single time standard, further analysis has to be done.\n",
    "\n",
    "The 4 levels of datetime analysis are done independently. To get a more refined result that combines 2 of more levels, more segmented analysis must be done, preferably with more data. Such datetime analysis could be repeated for a specific category too if one has his mind set on a category already. "
   ]
  }
 ],
 "metadata": {
  "kernelspec": {
   "display_name": "Python 3",
   "language": "python",
   "name": "python3"
  },
  "language_info": {
   "codemirror_mode": {
    "name": "ipython",
    "version": 3
   },
   "file_extension": ".py",
   "mimetype": "text/x-python",
   "name": "python",
   "nbconvert_exporter": "python",
   "pygments_lexer": "ipython3",
   "version": "3.7.0"
  },
  "toc": {
   "base_numbering": 1,
   "nav_menu": {},
   "number_sections": true,
   "sideBar": true,
   "skip_h1_title": false,
   "title_cell": "Table of Contents",
   "title_sidebar": "Contents",
   "toc_cell": true,
   "toc_position": {},
   "toc_section_display": true,
   "toc_window_display": true
  },
  "varInspector": {
   "cols": {
    "lenName": 16,
    "lenType": 16,
    "lenVar": 40
   },
   "kernels_config": {
    "python": {
     "delete_cmd_postfix": "",
     "delete_cmd_prefix": "del ",
     "library": "var_list.py",
     "varRefreshCmd": "print(var_dic_list())"
    },
    "r": {
     "delete_cmd_postfix": ") ",
     "delete_cmd_prefix": "rm(",
     "library": "var_list.r",
     "varRefreshCmd": "cat(var_dic_list()) "
    }
   },
   "types_to_exclude": [
    "module",
    "function",
    "builtin_function_or_method",
    "instance",
    "_Feature"
   ],
   "window_display": false
  }
 },
 "nbformat": 4,
 "nbformat_minor": 2
}
